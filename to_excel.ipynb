{
 "cells": [
  {
   "cell_type": "code",
   "execution_count": 8,
   "metadata": {},
   "outputs": [],
   "source": [
    "import pandas as pd\n",
    "import numpy as np \n",
    "import matplotlib as mpl\n",
    "import seaborn as sns"
   ]
  },
  {
   "cell_type": "code",
   "execution_count": 1,
   "metadata": {},
   "outputs": [],
   "source": [
    "DATASETS = [\n",
    "    \"SocioFactors_Processed.csv\",\n",
    "    # Add another file/delete a file if there's any change in dataset HERE\n",
    "    \"CPI_Food_Processed.csv\",\n",
    "    \"Net_FDI_Processed.csv\",\n",
    "    \"Prevalence_of_Undernourishment_Processed.csv\"\n",
    "]"
   ]
  },
  {
   "cell_type": "code",
   "execution_count": 2,
   "metadata": {},
   "outputs": [
    {
     "ename": "NameError",
     "evalue": "name 'pd' is not defined",
     "output_type": "error",
     "traceback": [
      "\u001b[1;31m---------------------------------------------------------------------------\u001b[0m",
      "\u001b[1;31mNameError\u001b[0m                                 Traceback (most recent call last)",
      "Cell \u001b[1;32mIn [2], line 4\u001b[0m\n\u001b[0;32m      3\u001b[0m \u001b[39mtry\u001b[39;00m:    \n\u001b[1;32m----> 4\u001b[0m     dfs \u001b[39m=\u001b[39m [pd\u001b[39m.\u001b[39mread_csv(file, encoding\u001b[39m=\u001b[39m\u001b[39m'\u001b[39m\u001b[39mutf8\u001b[39m\u001b[39m'\u001b[39m) \u001b[39mfor\u001b[39;00m file \u001b[39min\u001b[39;00m files]\n\u001b[0;32m      5\u001b[0m \u001b[39mexcept\u001b[39;00m:\n",
      "Cell \u001b[1;32mIn [2], line 4\u001b[0m, in \u001b[0;36m<listcomp>\u001b[1;34m(.0)\u001b[0m\n\u001b[0;32m      3\u001b[0m \u001b[39mtry\u001b[39;00m:    \n\u001b[1;32m----> 4\u001b[0m     dfs \u001b[39m=\u001b[39m [pd\u001b[39m.\u001b[39mread_csv(file, encoding\u001b[39m=\u001b[39m\u001b[39m'\u001b[39m\u001b[39mutf8\u001b[39m\u001b[39m'\u001b[39m) \u001b[39mfor\u001b[39;00m file \u001b[39min\u001b[39;00m files]\n\u001b[0;32m      5\u001b[0m \u001b[39mexcept\u001b[39;00m:\n",
      "\u001b[1;31mNameError\u001b[0m: name 'pd' is not defined",
      "\nDuring handling of the above exception, another exception occurred:\n",
      "\u001b[1;31mNameError\u001b[0m                                 Traceback (most recent call last)",
      "Cell \u001b[1;32mIn [2], line 6\u001b[0m\n\u001b[0;32m      4\u001b[0m     dfs \u001b[39m=\u001b[39m [pd\u001b[39m.\u001b[39mread_csv(file, encoding\u001b[39m=\u001b[39m\u001b[39m'\u001b[39m\u001b[39mutf8\u001b[39m\u001b[39m'\u001b[39m) \u001b[39mfor\u001b[39;00m file \u001b[39min\u001b[39;00m files]\n\u001b[0;32m      5\u001b[0m \u001b[39mexcept\u001b[39;00m:\n\u001b[1;32m----> 6\u001b[0m     dfs \u001b[39m=\u001b[39m [pd\u001b[39m.\u001b[39mread_csv(file, encoding\u001b[39m=\u001b[39m\u001b[39m'\u001b[39m\u001b[39mISO-8859-1\u001b[39m\u001b[39m'\u001b[39m) \u001b[39mfor\u001b[39;00m file \u001b[39min\u001b[39;00m files]\n\u001b[0;32m      8\u001b[0m \u001b[39m# Drop columns\u001b[39;00m\n\u001b[0;32m      9\u001b[0m \u001b[39mfor\u001b[39;00m i \u001b[39min\u001b[39;00m \u001b[39mrange\u001b[39m(\u001b[39m1\u001b[39m, \u001b[39mlen\u001b[39m(dfs)):\n",
      "Cell \u001b[1;32mIn [2], line 6\u001b[0m, in \u001b[0;36m<listcomp>\u001b[1;34m(.0)\u001b[0m\n\u001b[0;32m      4\u001b[0m     dfs \u001b[39m=\u001b[39m [pd\u001b[39m.\u001b[39mread_csv(file, encoding\u001b[39m=\u001b[39m\u001b[39m'\u001b[39m\u001b[39mutf8\u001b[39m\u001b[39m'\u001b[39m) \u001b[39mfor\u001b[39;00m file \u001b[39min\u001b[39;00m files]\n\u001b[0;32m      5\u001b[0m \u001b[39mexcept\u001b[39;00m:\n\u001b[1;32m----> 6\u001b[0m     dfs \u001b[39m=\u001b[39m [pd\u001b[39m.\u001b[39mread_csv(file, encoding\u001b[39m=\u001b[39m\u001b[39m'\u001b[39m\u001b[39mISO-8859-1\u001b[39m\u001b[39m'\u001b[39m) \u001b[39mfor\u001b[39;00m file \u001b[39min\u001b[39;00m files]\n\u001b[0;32m      8\u001b[0m \u001b[39m# Drop columns\u001b[39;00m\n\u001b[0;32m      9\u001b[0m \u001b[39mfor\u001b[39;00m i \u001b[39min\u001b[39;00m \u001b[39mrange\u001b[39m(\u001b[39m1\u001b[39m, \u001b[39mlen\u001b[39m(dfs)):\n",
      "\u001b[1;31mNameError\u001b[0m: name 'pd' is not defined"
     ]
    }
   ],
   "source": [
    "# Merge all csv files\n",
    "files = [\".\\datasets\\Processed\\%s\" % x for x in DATASETS]\n",
    "try:    \n",
    "    dfs = [pd.read_csv(file, encoding='utf8') for file in files]\n",
    "except:\n",
    "    dfs = [pd.read_csv(file, encoding='ISO-8859-1') for file in files]\n",
    "\n",
    "# Drop columns\n",
    "for i in range(1, len(dfs)):\n",
    "    columns = [\"Unnamed: 0\", \"Country_Name\", \"ISO3 Code\", \"IS03_Code\"]\n",
    "    for col in columns:\n",
    "        if col in dfs[i].columns:\n",
    "            dfs[i].drop(columns=[col], inplace=True)\n",
    "    if \"Area Code (M49)\" in dfs[i].columns:\n",
    "        dfs[i].rename(columns={\"Area Code (M49)\": \"M49_Code\"}, inplace=True)\n",
    "    if \"Net_FDI\" in DATASETS[i]:\n",
    "        dfs[i].drop(columns=dfs[i].columns[dfs[i].columns.str.contains(\"Total_FDI\")], inplace=True)\n",
    "for i in range(len(dfs)):\n",
    "    print(dfs[i].columns)\n",
    "\n",
    "# Merge\n",
    "df = dfs[0]\n",
    "for i in range(1, len(dfs)):\n",
    "    df = df.merge(dfs[i], on=\"M49_Code\", how=\"inner\")\n",
    "df"
   ]
  },
  {
   "cell_type": "markdown",
   "metadata": {},
   "source": [
    "## Preprocessing"
   ]
  },
  {
   "cell_type": "code",
   "execution_count": 11,
   "metadata": {},
   "outputs": [
    {
     "name": "stderr",
     "output_type": "stream",
     "text": [
      "C:\\Users\\admin\\AppData\\Local\\Temp\\ipykernel_44292\\1916672156.py:2: FutureWarning: The default value of numeric_only in DataFrame.mean is deprecated. In a future version, it will default to False. In addition, specifying 'numeric_only=None' is deprecated. Select only valid columns or specify the value of numeric_only to silence this warning.\n",
      "  df.fillna(df.mean(), inplace=True)\n"
     ]
    },
    {
     "data": {
      "text/plain": [
       "M49_Code                               0\n",
       "Country_Name                           0\n",
       "ISO3 Code                              0\n",
       "CPI_Food_2016                          0\n",
       "CPI_Food_2017                          0\n",
       "CPI_Food_2018                          0\n",
       "CPI_Food_2019                          0\n",
       "CPI_Food_2020                          0\n",
       "CPI_Food_Avg                           0\n",
       "Net_FDI_2016                           0\n",
       "Net_FDI_2017                           0\n",
       "Net_FDI_2018                           0\n",
       "Net_FDI_2019                           0\n",
       "Net_FDI_2020                           0\n",
       "ISO3_Code                              0\n",
       "Life_Expectancy_2016                   0\n",
       "Life_Expectancy_2017                   0\n",
       "Life_Expectancy_2018                   0\n",
       "Life_Expectancy_2019                   0\n",
       "Life_Expectancy_2020                   0\n",
       "Life_Expectancy_Avg                    0\n",
       "Mean_Years_Of_Schooling_2016           0\n",
       "Mean_Years_Of_Schooling_2017           0\n",
       "Mean_Years_Of_Schooling_2018           0\n",
       "Mean_Years_Of_Schooling_2019           0\n",
       "Mean_Years_Of_Schooling_2020           0\n",
       "Mean_Years_of_Schooling_Avg            0\n",
       "Prevalence_of_undernourishment_2016    0\n",
       "Prevalence_of_undernourishment_2017    0\n",
       "Prevalence_of_undernourishment_2018    0\n",
       "Prevalence_of_undernourishment_2019    0\n",
       "Prevalence_of_undernourishment_2020    0\n",
       "dtype: int64"
      ]
     },
     "execution_count": 11,
     "metadata": {},
     "output_type": "execute_result"
    }
   ],
   "source": [
    "# Replace all null values by mean\n",
    "df.fillna(df.mean(), inplace=True)\n",
    "df.isnull().sum()"
   ]
  },
  {
   "cell_type": "markdown",
   "metadata": {},
   "source": [
    "## Convert to excel format"
   ]
  },
  {
   "cell_type": "code",
   "execution_count": 12,
   "metadata": {},
   "outputs": [
    {
     "name": "stdout",
     "output_type": "stream",
     "text": [
      "['M49_Code', 'Country_Name', 'ISO3 Code', 'Year', 'CPI_Food', 'Net_FDI', 'Life_Expectancy', 'Mean_Years_Of_Schooling', 'Prevalence_of_undernourishment']\n"
     ]
    }
   ],
   "source": [
    "# Create dataframes corr. to each year\n",
    "import csv\n",
    "\n",
    "df_exc = df.copy()\n",
    "df_exc = df_exc.loc[:, ~df_exc.columns.str.contains('Avg')]\n",
    "col_names = df_exc.columns[:3].tolist() + [\"Year\"] + [x.replace(\"_2020\", \"\") for x in df_exc.columns[df_exc.columns.str.contains('_2020')].values]\n",
    "print(col_names)\n",
    "n = np.count_nonzero(df_exc.columns.str.contains('_2020')) + 4\n",
    "years = [2016, 2017, 2018, 2019, 2020]\n",
    "dfs = [None, None, None, None, None]\n",
    "data = []\n",
    "for i, year in enumerate(years):\n",
    "    df_info = df_exc.iloc[:, 0:3]\n",
    "    df_info[\"Year\"] = year\n",
    "    dfs[i] = pd.concat([df_info, df_exc.loc[:, df_exc.columns.str.contains(str(year))]], axis=1)\n",
    "    assert dfs[i].shape[1] == n\n",
    "    data += dfs[i].values.tolist()\n",
    "data = [col_names] + data\n",
    "with open(\"./datasets/Processed/All_Processed.csv\", \"w\", encoding=\"utf8\", newline=\"\") as f:\n",
    "   w = csv.writer(f)\n",
    "   w.writerows(data)"
   ]
  }
 ],
 "metadata": {
  "kernelspec": {
   "display_name": "Python 3.8.0 64-bit",
   "language": "python",
   "name": "python3"
  },
  "language_info": {
   "codemirror_mode": {
    "name": "ipython",
    "version": 3
   },
   "file_extension": ".py",
   "mimetype": "text/x-python",
   "name": "python",
   "nbconvert_exporter": "python",
   "pygments_lexer": "ipython3",
   "version": "3.8.0"
  },
  "orig_nbformat": 4,
  "vscode": {
   "interpreter": {
    "hash": "195f7d4e7dfa36631d8b035cdcf7a97b6cf52e673cffc7538f8b1ac093d92219"
   }
  }
 },
 "nbformat": 4,
 "nbformat_minor": 2
}
