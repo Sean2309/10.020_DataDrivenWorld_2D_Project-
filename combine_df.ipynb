{
 "cells": [
  {
   "cell_type": "code",
   "execution_count": 14,
   "metadata": {},
   "outputs": [],
   "source": [
    "import pandas as pd\n",
    "import numpy as np \n",
    "import matplotlib as mpl\n",
    "import seaborn as sns\n",
    "\n",
    "import warnings\n",
    "warnings.simplefilter(action='ignore')"
   ]
  },
  {
   "cell_type": "code",
   "execution_count": 15,
   "metadata": {},
   "outputs": [
    {
     "data": {
      "text/plain": [
       "Index(['M49_Code', 'Country_Name', 'ISO3 Code', 'CPI_Food_2016',\n",
       "       'CPI_Food_2017', 'CPI_Food_2018', 'CPI_Food_2019', 'CPI_Food_2020',\n",
       "       'CPI_Food_Avg'],\n",
       "      dtype='object')"
      ]
     },
     "execution_count": 15,
     "metadata": {},
     "output_type": "execute_result"
    }
   ],
   "source": [
    "df_socio = pd.read_excel(\"Datasets\\Processed\\Combined_Process_Factors.xlsx\", \"Socio_factors_processed\")\n",
    "df_cpi = pd.read_excel(\"Datasets\\Processed\\Combined_Process_Factors.xlsx\", \"CPI_processed\")\n",
    "df_fdi = pd.read_excel(\"Datasets\\Processed\\Combined_Process_Factors.xlsx\", \"Net_FDI_processed\")\n",
    "df_undernourishment = pd.read_excel(\"Datasets\\Processed\\Combined_Process_Factors.xlsx\", \"undernourishment_processed\")\n",
    "df_cpi.columns"
   ]
  },
  {
   "cell_type": "code",
   "execution_count": 17,
   "metadata": {},
   "outputs": [],
   "source": [
    "df_cpi.drop([\"M49_Code\", \"ISO3 Code\"], inplace=True, axis=1)\n",
    "df_fdi.drop([\"Unnamed: 0\", \"M49_Code\"], inplace=True, axis=1)\n",
    "df_undernourishment.drop([\"Unnamed: 0\", \"M49_Code\"], inplace=True, axis=1)"
   ]
  },
  {
   "cell_type": "code",
   "execution_count": 19,
   "metadata": {},
   "outputs": [],
   "source": [
    "df_combined = pd.merge(df_socio, df_cpi, on=\"Country_Name\", how=\"inner\")\n",
    "df_combined = pd.merge(df_combined, df_fdi, on=\"Country_Name\", how=\"inner\")\n",
    "df_combined = pd.merge(df_combined, df_undernourishment, on=\"Country_Name\", how=\"inner\")\n",
    "\n",
    "df_combined.to_csv(\"combined_df.csv\")"
   ]
  }
 ],
 "metadata": {
  "kernelspec": {
   "display_name": "Python 3.8.0 64-bit",
   "language": "python",
   "name": "python3"
  },
  "language_info": {
   "codemirror_mode": {
    "name": "ipython",
    "version": 3
   },
   "file_extension": ".py",
   "mimetype": "text/x-python",
   "name": "python",
   "nbconvert_exporter": "python",
   "pygments_lexer": "ipython3",
   "version": "3.8.0"
  },
  "orig_nbformat": 4,
  "vscode": {
   "interpreter": {
    "hash": "195f7d4e7dfa36631d8b035cdcf7a97b6cf52e673cffc7538f8b1ac093d92219"
   }
  }
 },
 "nbformat": 4,
 "nbformat_minor": 2
}
