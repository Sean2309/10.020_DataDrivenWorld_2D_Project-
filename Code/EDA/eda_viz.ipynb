{
 "cells": [
  {
   "cell_type": "code",
   "execution_count": 1,
   "metadata": {},
   "outputs": [],
   "source": [
    "import pandas as pd\n",
    "import numpy as np\n",
    "import matplotlib as mpl\n",
    "import matplotlib.pyplot as plt\n",
    "import seaborn as sns\n",
    "import os"
   ]
  },
  {
   "cell_type": "markdown",
   "metadata": {},
   "source": [
    "## DF Parsing + Pre-Processing"
   ]
  },
  {
   "cell_type": "code",
   "execution_count": 2,
   "metadata": {},
   "outputs": [],
   "source": [
    "df_undernourishment = pd.read_csv(\"..\\..\\Datasets\\Processed\\Prevalence_of_Undernourishment_Processed.csv\")\n",
    "df_net_fdi = pd.read_csv(\"..\\..\\Datasets\\Processed/Net_FDI_Processed.csv\")\n",
    "df_cpi = pd.read_csv(\"..\\..\\Datasets\\Processed\\CPI_Food_Processed.csv\", encoding=\"ISO-8859-1\")\n",
    "df_socio_factors = pd.read_csv(\"..\\..\\Datasets\\Processed\\SocioFactors_Processed.csv\", encoding=\"ISO-8859-1\")\n"
   ]
  },
  {
   "cell_type": "code",
   "execution_count": 3,
   "metadata": {},
   "outputs": [
    {
     "name": "stdout",
     "output_type": "stream",
     "text": [
      "Index(['M49_Code', 'Country_Name', '2016_(%)', '2017_(%)', '2018_(%)',\n",
      "       '2019_(%)', '2020_(%)'],\n",
      "      dtype='object')\n",
      "Index(['M49_Code', 'Country_Name', 'Total_FDI_Inflows_2016',\n",
      "       'Total_FDI_Inflows_2017', 'Total_FDI_Inflows_2018',\n",
      "       'Total_FDI_Inflows_2019', 'Total_FDI_Inflows_2020',\n",
      "       'Total_FDI_Outflows_2016', 'Total_FDI_Outflows_2017',\n",
      "       'Total_FDI_Outflows_2018', 'Total_FDI_Outflows_2019',\n",
      "       'Total_FDI_Outflows_2020', 'Net_FDI_2016', 'Net_FDI_2017',\n",
      "       'Net_FDI_2018', 'Net_FDI_2019', 'Net_FDI_2020'],\n",
      "      dtype='object')\n",
      "Index(['M49_Code', 'Country_Name', 'ISO3_Code', 'CPI_Food_2016',\n",
      "       'CPI_Food_2017', 'CPI_Food_2018', 'CPI_Food_2019', 'CPI_Food_2020',\n",
      "       'CPI_Food_Avg'],\n",
      "      dtype='object')\n",
      "Index(['ISO3_Code', 'Country_Name', 'M49_Code', 'Life_Expectancy_2016',\n",
      "       'Life_Expectancy_2017', 'Life_Expectancy_2018', 'Life_Expectancy_2019',\n",
      "       'Life_Expectancy_2020', 'Life_Expectancy_Avg',\n",
      "       'Mean_Years_Of_Schooling_2016', 'Mean_Years_Of_Schooling_2017',\n",
      "       'Mean_Years_Of_Schooling_2018', 'Mean_Years_Of_Schooling_2019',\n",
      "       'Mean_Years_Of_Schooling_2020', 'Mean_Years_of_Schooling_Avg'],\n",
      "      dtype='object')\n"
     ]
    }
   ],
   "source": [
    "df_undernourishment.rename(columns={'Prevalence_of_undernourishment_2016': \"2016_(%)\",'Prevalence_of_undernourishment_2017': \"2017_(%)\",'Prevalence_of_undernourishment_2018': \"2018_(%)\",'Prevalence_of_undernourishment_2019': \"2019_(%)\", 'Prevalence_of_undernourishment_2020': \"2020_(%)\"}, inplace=True)\n",
    "df_undernourishment = df_undernourishment.replace(\"<2.5\", \"1.5\")\n",
    "\n",
    "df_cpi.rename(columns={\"ISO3 Code\": \"ISO3_Code\"}, inplace=True) # remove after CPI df col naming resolved\n",
    "df_undernourishment.drop(\"Unnamed: 0\", axis=1, inplace=True)\n",
    "df_net_fdi.drop(\"Unnamed: 0\", axis=1, inplace=True)\n",
    "\n",
    "print(df_undernourishment.columns)\n",
    "print(df_net_fdi.columns)\n",
    "print(df_cpi.columns)\n",
    "print(df_socio_factors.columns)"
   ]
  },
  {
   "cell_type": "code",
   "execution_count": 4,
   "metadata": {},
   "outputs": [
    {
     "name": "stdout",
     "output_type": "stream",
     "text": [
      "M49_Code           int64\n",
      "Country_Name      object\n",
      "ISO3_Code         object\n",
      "CPI_Food_2016    float64\n",
      "CPI_Food_2017    float64\n",
      "CPI_Food_2018    float64\n",
      "CPI_Food_2019    float64\n",
      "CPI_Food_2020    float64\n",
      "CPI_Food_Avg     float64\n",
      "dtype: object\n",
      "ISO3_Code                        object\n",
      "Country_Name                     object\n",
      "M49_Code                        float64\n",
      "Life_Expectancy_2016            float64\n",
      "Life_Expectancy_2017            float64\n",
      "Life_Expectancy_2018            float64\n",
      "Life_Expectancy_2019            float64\n",
      "Life_Expectancy_2020            float64\n",
      "Life_Expectancy_Avg             float64\n",
      "Mean_Years_Of_Schooling_2016    float64\n",
      "Mean_Years_Of_Schooling_2017    float64\n",
      "Mean_Years_Of_Schooling_2018    float64\n",
      "Mean_Years_Of_Schooling_2019    float64\n",
      "Mean_Years_Of_Schooling_2020    float64\n",
      "Mean_Years_of_Schooling_Avg     float64\n",
      "dtype: object\n"
     ]
    }
   ],
   "source": [
    "# print(df_undernourishment.dtypes)\n",
    "# print(df_net_fdi.dtypes)\n",
    "print(df_cpi.dtypes)\n",
    "print(df_socio_factors.dtypes)"
   ]
  },
  {
   "cell_type": "markdown",
   "metadata": {},
   "source": [
    "### Relevant Plotting Functions\n"
   ]
  },
  {
   "cell_type": "code",
   "execution_count": 5,
   "metadata": {},
   "outputs": [],
   "source": [
    "PLOTS_TO_FUNC = {\n",
    "    \"Hist\": sns.histplot,\n",
    "    \"KDE\": sns.kdeplot,\n",
    "    \"Ecdf\": sns.ecdfplot,\n",
    "    \"Bar\": sns.barplot,\n",
    "    \"Scatter\": sns.scatterplot,\n",
    "    \"Violin\": sns.violinplot,\n",
    "    \"Line\": sns.lineplot\n",
    "}\n"
   ]
  },
  {
   "cell_type": "code",
   "execution_count": 6,
   "metadata": {},
   "outputs": [],
   "source": [
    "def custom_settings(\n",
    "    markersize: float = 2,\n",
    "    linewidth: float = 0.5,\n",
    "    labelsize: float = 6.5\n",
    "):\n",
    "    mpl.rcdefaults()\n",
    "    mpl.rcParams[\"lines.markersize\"] = markersize\n",
    "    mpl.rcParams[\"lines.linewidth\"] = linewidth\n",
    "    mpl.rcParams[\"xtick.labelsize\"] = labelsize\n",
    "    ax = plt.gca()\n",
    "    ax.set_xlim((0, 55))\n",
    "    # simplefilter(action=\"ignore\")\n",
    "\n",
    "# custom_settings()"
   ]
  },
  {
   "cell_type": "code",
   "execution_count": 7,
   "metadata": {},
   "outputs": [],
   "source": [
    "def split_cols_exceeding_thresh(\n",
    "    df: pd.DataFrame,\n",
    "    label_name: str,\n",
    "    thresh: int = 5\n",
    ") -> dict:\n",
    "    \"\"\"\n",
    "    For the cols that exceed the categorical threshold \n",
    "        => This function will break down the unique vals of the col into n groups\n",
    "            where n = n_unique values of the col / categorical threshold\n",
    "    Returns dictionary where:\n",
    "        keys => arbitrary names (1,2,3,4,...)\n",
    "        values => list of values in the label col split according to the threshold\n",
    "    \"\"\"\n",
    "    d = {}\n",
    "    n_cuts = int(np.ceil((df[label_name].nunique()) / thresh))\n",
    "    l = df[label_name].sort_values()\n",
    "    col_names_l = np.array_split(l, n_cuts) \n",
    "    var_name_l = [i for i in range(0, n_cuts)]\n",
    "    for j in range(len(var_name_l)):\n",
    "        d[var_name_l[j]] = col_names_l[j]\n",
    "    return d\n"
   ]
  },
  {
   "cell_type": "code",
   "execution_count": 75,
   "metadata": {},
   "outputs": [],
   "source": [
    "def rotate_axis(\n",
    "    fig,\n",
    ") -> bool:\n",
    "    \"\"\"\n",
    "    Dynamic rotation of x axis labels\n",
    "    \"\"\"\n",
    "    num_labels = len(fig.get_xticklabels())\n",
    "    if num_labels >= 5:\n",
    "        return True\n",
    "    else:\n",
    "        return False\n",
    "\n",
    "def save_fig(\n",
    "    fig,\n",
    "    dest_path,\n",
    "    file_name\n",
    "):\n",
    "    locs, labels = plt.xticks()\n",
    "    if rotate_axis(fig):\n",
    "        plt.setp(labels,rotation=45, horizontalalignment=\"right\")\n",
    "    else:\n",
    "        plt.setp(labels, horizontalalignment=\"right\")\n",
    "\n",
    "    plt.savefig(os.path.join(dest_path, file_name), dpi=300, bbox_inches=\"tight\")\n",
    "    plt.close()"
   ]
  },
  {
   "cell_type": "markdown",
   "metadata": {},
   "source": [
    "## Univariate Analysis"
   ]
  },
  {
   "cell_type": "code",
   "execution_count": 9,
   "metadata": {},
   "outputs": [],
   "source": [
    "## Making Targeted Dir for plots to be saved in\n",
    "\n",
    "cwd = os.getcwd()\n",
    "UNIVARIATE = os.path.join(cwd,\"Graphs/Graphs_EDA/Univariate_Analysis\")\n",
    "BIVARIATE = os.path.join(cwd,\"Graphs/Graphs_EDA/Bivariate_Analysis\")\n",
    "if not os.path.isdir(UNIVARIATE):\n",
    "    os.makedirs(UNIVARIATE)\n",
    "if not os.path.isdir(BIVARIATE):\n",
    "    os.makedirs(BIVARIATE)\n",
    "\n",
    "plot_types_uni = [\"Hist\", \"KDE\"]"
   ]
  },
  {
   "cell_type": "code",
   "execution_count": 14,
   "metadata": {},
   "outputs": [],
   "source": [
    "cols_dict1 = {\n",
    "    \"Prevalence\" : [\"2016_(%)\", \"2017_(%)\", \"2018_(%)\",\"2019_(%)\",\"2020_(%)\"],\n",
    "    \"Life_Expectancy\" : ['Life_Expectancy_2016','Life_Expectancy_2017', 'Life_Expectancy_2018', 'Life_Expectancy_2019','Life_Expectancy_2020', 'Life_Expectancy_Avg'],\n",
    "    # \"CPI\": ['CPI_Food_2016', 'CPI_Food_2017', 'CPI_Food_2018', 'CPI_Food_2019', 'CPI_Food_2020','CPI_Food_Avg'],\n",
    "    \"Net_FDI\": ['Net_FDI_2016', 'Net_FDI_2017','Net_FDI_2018', 'Net_FDI_2019', 'Net_FDI_2020']\n",
    "}\n",
    "\n",
    "\n",
    "\n",
    "# for k,v in cols_dict.items():\n",
    "#     df = pd.DataFrame\n",
    "#     if k == \"Prevalence\":\n",
    "#         df = df_undernourishment\n",
    "#     elif k == \"Life_Expectancy\":\n",
    "#         df = df_socio_factors\n",
    "#     elif k == \"CPI\":\n",
    "#         df = df_cpi\n",
    "#     elif k == \"Net_FDI\":\n",
    "#         df = df_net_fdi\n",
    "#     print(k)\n",
    "#     for col in cols_dict[k]:\n",
    "#         for plot_type in plot_types_uni:\n",
    "#             fig = PLOTS_TO_FUNC[plot_type](data=df, x=col)\n",
    "#             file_name = f\"{plot_type}_plot_{col}.png\"\n",
    "#             save_fig(fig, UNIVARIATE, file_name)\n",
    "\n"
   ]
  },
  {
   "cell_type": "markdown",
   "metadata": {},
   "source": [
    "## All Processed Dataset\n",
    "### Creating Categories from Numerical Cols\n"
   ]
  },
  {
   "cell_type": "code",
   "execution_count": 57,
   "metadata": {},
   "outputs": [],
   "source": [
    "df_all_processed = pd.read_csv(\"..\\..\\Datasets\\Processed\\All_Processed.csv\")\n",
    "df_all_processed.sort_values(by=\"Country_Name\", inplace=True)"
   ]
  },
  {
   "cell_type": "code",
   "execution_count": 58,
   "metadata": {},
   "outputs": [
    {
     "data": {
      "text/plain": [
       "Index(['ISO3_Code', 'Country_Name', 'M49_Code', 'Year', 'Life_Expectancy',\n",
       "       'Mean_Years_Of_Schooling', 'CPI_Food', 'Net_FDI',\n",
       "       'Infant_Mortality_Rate', 'Unemployment', 'Access_To_Electricity',\n",
       "       'Fertility_Rate', 'Immunization_Measles', 'Labor_Force_Gender_Ratio',\n",
       "       'Corruption_Perception_Index', 'Prevalence_of_undernourishment'],\n",
       "      dtype='object')"
      ]
     },
     "execution_count": 58,
     "metadata": {},
     "output_type": "execute_result"
    }
   ],
   "source": [
    "df_all_processed.columns"
   ]
  },
  {
   "cell_type": "code",
   "execution_count": null,
   "metadata": {},
   "outputs": [],
   "source": []
  },
  {
   "cell_type": "code",
   "execution_count": 137,
   "metadata": {},
   "outputs": [
    {
     "name": "stdout",
     "output_type": "stream",
     "text": [
      "38753710727.95829\n",
      "86.673816\n"
     ]
    },
    {
     "data": {
      "text/html": [
       "<div>\n",
       "<style scoped>\n",
       "    .dataframe tbody tr th:only-of-type {\n",
       "        vertical-align: middle;\n",
       "    }\n",
       "\n",
       "    .dataframe tbody tr th {\n",
       "        vertical-align: top;\n",
       "    }\n",
       "\n",
       "    .dataframe thead th {\n",
       "        text-align: right;\n",
       "    }\n",
       "</style>\n",
       "<table border=\"1\" class=\"dataframe\">\n",
       "  <thead>\n",
       "    <tr style=\"text-align: right;\">\n",
       "      <th></th>\n",
       "      <th>ISO3_Code</th>\n",
       "      <th>Country_Name</th>\n",
       "      <th>M49_Code</th>\n",
       "      <th>Year</th>\n",
       "      <th>Life_Expectancy</th>\n",
       "      <th>Mean_Years_Of_Schooling</th>\n",
       "      <th>CPI_Food</th>\n",
       "      <th>Net_FDI</th>\n",
       "      <th>Prevalence_of_undernourishment</th>\n",
       "      <th>Life_Expectancy_Cat</th>\n",
       "      <th>Net_FDI_Cat</th>\n",
       "    </tr>\n",
       "  </thead>\n",
       "  <tbody>\n",
       "    <tr>\n",
       "      <th>754</th>\n",
       "      <td>VEN</td>\n",
       "      <td>Venezuela (Bolivarian Republic of)</td>\n",
       "      <td>862.0</td>\n",
       "      <td>2020</td>\n",
       "      <td>71.0949</td>\n",
       "      <td>11.107277</td>\n",
       "      <td>3.875371e+10</td>\n",
       "      <td>1037.333334</td>\n",
       "      <td>22.9</td>\n",
       "      <td>71-80</td>\n",
       "      <td>0-200000</td>\n",
       "    </tr>\n",
       "    <tr>\n",
       "      <th>602</th>\n",
       "      <td>VEN</td>\n",
       "      <td>Venezuela (Bolivarian Republic of)</td>\n",
       "      <td>862.0</td>\n",
       "      <td>2019</td>\n",
       "      <td>72.1614</td>\n",
       "      <td>11.107277</td>\n",
       "      <td>1.288889e+09</td>\n",
       "      <td>-142.000000</td>\n",
       "      <td>24.9</td>\n",
       "      <td>71-80</td>\n",
       "      <td>(-200000)-0</td>\n",
       "    </tr>\n",
       "    <tr>\n",
       "      <th>450</th>\n",
       "      <td>VEN</td>\n",
       "      <td>Venezuela (Bolivarian Republic of)</td>\n",
       "      <td>862.0</td>\n",
       "      <td>2018</td>\n",
       "      <td>71.9788</td>\n",
       "      <td>10.835699</td>\n",
       "      <td>1.594700e+07</td>\n",
       "      <td>225.000000</td>\n",
       "      <td>22.7</td>\n",
       "      <td>71-80</td>\n",
       "      <td>0-200000</td>\n",
       "    </tr>\n",
       "    <tr>\n",
       "      <th>298</th>\n",
       "      <td>VEN</td>\n",
       "      <td>Venezuela (Bolivarian Republic of)</td>\n",
       "      <td>862.0</td>\n",
       "      <td>2017</td>\n",
       "      <td>71.9430</td>\n",
       "      <td>10.570760</td>\n",
       "      <td>1.108619e+04</td>\n",
       "      <td>-2302.000000</td>\n",
       "      <td>22.2</td>\n",
       "      <td>71-80</td>\n",
       "      <td>(-200000)-0</td>\n",
       "    </tr>\n",
       "    <tr>\n",
       "      <th>728</th>\n",
       "      <td>SDN</td>\n",
       "      <td>Sudan</td>\n",
       "      <td>729.0</td>\n",
       "      <td>2020</td>\n",
       "      <td>65.6136</td>\n",
       "      <td>3.820000</td>\n",
       "      <td>1.621521e+03</td>\n",
       "      <td>1284.407750</td>\n",
       "      <td>12.8</td>\n",
       "      <td>61-70</td>\n",
       "      <td>0-200000</td>\n",
       "    </tr>\n",
       "    <tr>\n",
       "      <th>...</th>\n",
       "      <td>...</td>\n",
       "      <td>...</td>\n",
       "      <td>...</td>\n",
       "      <td>...</td>\n",
       "      <td>...</td>\n",
       "      <td>...</td>\n",
       "      <td>...</td>\n",
       "      <td>...</td>\n",
       "      <td>...</td>\n",
       "      <td>...</td>\n",
       "      <td>...</td>\n",
       "    </tr>\n",
       "    <tr>\n",
       "      <th>741</th>\n",
       "      <td>TCD</td>\n",
       "      <td>Chad</td>\n",
       "      <td>148.0</td>\n",
       "      <td>2020</td>\n",
       "      <td>52.7774</td>\n",
       "      <td>2.573774</td>\n",
       "      <td>9.113692e+01</td>\n",
       "      <td>1284.407750</td>\n",
       "      <td>32.7</td>\n",
       "      <td>51-60</td>\n",
       "      <td>0-200000</td>\n",
       "    </tr>\n",
       "    <tr>\n",
       "      <th>285</th>\n",
       "      <td>TCD</td>\n",
       "      <td>Chad</td>\n",
       "      <td>148.0</td>\n",
       "      <td>2017</td>\n",
       "      <td>52.3076</td>\n",
       "      <td>2.388869</td>\n",
       "      <td>9.091219e+01</td>\n",
       "      <td>204.867505</td>\n",
       "      <td>29.1</td>\n",
       "      <td>51-60</td>\n",
       "      <td>0-200000</td>\n",
       "    </tr>\n",
       "    <tr>\n",
       "      <th>133</th>\n",
       "      <td>TCD</td>\n",
       "      <td>Chad</td>\n",
       "      <td>148.0</td>\n",
       "      <td>2016</td>\n",
       "      <td>52.0834</td>\n",
       "      <td>2.301459</td>\n",
       "      <td>8.902543e+01</td>\n",
       "      <td>3457.305457</td>\n",
       "      <td>28.5</td>\n",
       "      <td>51-60</td>\n",
       "      <td>0-200000</td>\n",
       "    </tr>\n",
       "    <tr>\n",
       "      <th>437</th>\n",
       "      <td>TCD</td>\n",
       "      <td>Chad</td>\n",
       "      <td>148.0</td>\n",
       "      <td>2018</td>\n",
       "      <td>52.8253</td>\n",
       "      <td>2.479598</td>\n",
       "      <td>8.678160e+01</td>\n",
       "      <td>3746.793298</td>\n",
       "      <td>30.3</td>\n",
       "      <td>51-60</td>\n",
       "      <td>0-200000</td>\n",
       "    </tr>\n",
       "    <tr>\n",
       "      <th>589</th>\n",
       "      <td>TCD</td>\n",
       "      <td>Chad</td>\n",
       "      <td>148.0</td>\n",
       "      <td>2019</td>\n",
       "      <td>53.2594</td>\n",
       "      <td>2.573774</td>\n",
       "      <td>8.667382e+01</td>\n",
       "      <td>1648.666222</td>\n",
       "      <td>31.7</td>\n",
       "      <td>51-60</td>\n",
       "      <td>0-200000</td>\n",
       "    </tr>\n",
       "  </tbody>\n",
       "</table>\n",
       "<p>760 rows × 11 columns</p>\n",
       "</div>"
      ],
      "text/plain": [
       "    ISO3_Code                        Country_Name  M49_Code  Year  \\\n",
       "754       VEN  Venezuela (Bolivarian Republic of)     862.0  2020   \n",
       "602       VEN  Venezuela (Bolivarian Republic of)     862.0  2019   \n",
       "450       VEN  Venezuela (Bolivarian Republic of)     862.0  2018   \n",
       "298       VEN  Venezuela (Bolivarian Republic of)     862.0  2017   \n",
       "728       SDN                               Sudan     729.0  2020   \n",
       "..        ...                                 ...       ...   ...   \n",
       "741       TCD                                Chad     148.0  2020   \n",
       "285       TCD                                Chad     148.0  2017   \n",
       "133       TCD                                Chad     148.0  2016   \n",
       "437       TCD                                Chad     148.0  2018   \n",
       "589       TCD                                Chad     148.0  2019   \n",
       "\n",
       "     Life_Expectancy  Mean_Years_Of_Schooling      CPI_Food      Net_FDI  \\\n",
       "754          71.0949                11.107277  3.875371e+10  1037.333334   \n",
       "602          72.1614                11.107277  1.288889e+09  -142.000000   \n",
       "450          71.9788                10.835699  1.594700e+07   225.000000   \n",
       "298          71.9430                10.570760  1.108619e+04 -2302.000000   \n",
       "728          65.6136                 3.820000  1.621521e+03  1284.407750   \n",
       "..               ...                      ...           ...          ...   \n",
       "741          52.7774                 2.573774  9.113692e+01  1284.407750   \n",
       "285          52.3076                 2.388869  9.091219e+01   204.867505   \n",
       "133          52.0834                 2.301459  8.902543e+01  3457.305457   \n",
       "437          52.8253                 2.479598  8.678160e+01  3746.793298   \n",
       "589          53.2594                 2.573774  8.667382e+01  1648.666222   \n",
       "\n",
       "     Prevalence_of_undernourishment Life_Expectancy_Cat  Net_FDI_Cat  \n",
       "754                            22.9               71-80     0-200000  \n",
       "602                            24.9               71-80  (-200000)-0  \n",
       "450                            22.7               71-80     0-200000  \n",
       "298                            22.2               71-80  (-200000)-0  \n",
       "728                            12.8               61-70     0-200000  \n",
       "..                              ...                 ...          ...  \n",
       "741                            32.7               51-60     0-200000  \n",
       "285                            29.1               51-60     0-200000  \n",
       "133                            28.5               51-60     0-200000  \n",
       "437                            30.3               51-60     0-200000  \n",
       "589                            31.7               51-60     0-200000  \n",
       "\n",
       "[760 rows x 11 columns]"
      ]
     },
     "execution_count": 137,
     "metadata": {},
     "output_type": "execute_result"
    }
   ],
   "source": [
    "## Life Expectancy\n",
    "df_all_processed[\"Life_Expectancy_Cat\"] = pd.cut(df_all_processed[\"Life_Expectancy\"], bins=[51,60,70,80,90], labels=[\"51-60\",\"61-70\",\"71-80\",\"81-90\"])\n",
    "# df_all_processed[\"Life_Expectancy_Cat\"] = pd.cut(df_all_processed[\"Life_Expectancy\"], bins=[51,55,60,65,70,75,80,85,90], labels=[\"51-55\",\"56-60\",\"61-65\",\"66-70\",\"71-75\",\"76-80\",\"81-85\",\"86-90\"])\n",
    "\n",
    "## Net FDI\n",
    "df_all_processed[\"Net_FDI_Cat\"] = pd.cut(df_all_processed[\"Net_FDI\"], bins=[-400000,-200000,0,200000, 400000, 600000], labels=[\"<-200000\",\"(-200000)-0\",\"0-200000\",\"200000-400000\", \">400000\"])\n",
    "\n",
    "## CPI\n",
    "print(df_all_processed[\"CPI_Food\"].max())\n",
    "print(df_all_processed[\"CPI_Food\"].min())\n",
    "# CPI has a big outlier data points, might not be ideal for this\n",
    "df_all_processed.sort_values(by=\"CPI_Food\", ascending=False)"
   ]
  },
  {
   "cell_type": "code",
   "execution_count": 140,
   "metadata": {},
   "outputs": [],
   "source": [
    "fig = sns.histplot(data=df_all_processed, x=\"Prevalence_of_undernourishment\", hue=\"Life_Expectancy_Cat\")\n",
    "save_fig(fig, UNIVARIATE, \"Hist_plot_Prevalence_hue_life_expectancy.png\")\n"
   ]
  },
  {
   "cell_type": "code",
   "execution_count": 145,
   "metadata": {},
   "outputs": [],
   "source": [
    "fig = sns.histplot(data=df_all_processed, x=\"Prevalence_of_undernourishment\", hue=\"Net_FDI_Cat\")\n",
    "save_fig(fig, UNIVARIATE, \"Hist_plot_Prevalence_hue_NET_FDI.png\")"
   ]
  },
  {
   "cell_type": "markdown",
   "metadata": {},
   "source": [
    "## Bivariate Analysis\n",
    "\n"
   ]
  },
  {
   "cell_type": "code",
   "execution_count": 149,
   "metadata": {},
   "outputs": [],
   "source": [
    "plot_types_bi = [\"Hist\", \"Bar\", \"Scatter\", \"Violin\"]\n",
    "\n",
    "for plot_type in plot_types_bi:\n",
    "    fig = PLOTS_TO_FUNC[plot_type](data=df_all_processed, x=\"Life_Expectancy_Cat\", y=\"Prevalence_of_undernourishment\")\n",
    "    file_name = f\"{plot_type}_plot_Life_Expectancy_Prevalence.png\"\n",
    "    save_fig(fig, BIVARIATE, file_name)\n"
   ]
  },
  {
   "cell_type": "code",
   "execution_count": 40,
   "metadata": {},
   "outputs": [
    {
     "data": {
      "image/png": "[encoded data removed]",
      "text/plain": [
       "<Figure size 640x480 with 2 Axes>"
      ]
     },
     "metadata": {},
     "output_type": "display_data"
    }
   ],
   "source": [
    "## Heatmap\n",
    "\n",
    "corr = df_all_processed.corr()\n",
    "# print(corr)\n",
    "fig = sns.heatmap(corr, vmin=-1, vmax=1, annot=True, cmap=\"BrBG\")\n",
    "plt.show()\n",
    "save_fig(fig, BIVARIATE, \"Heat_Map_Correlation.png\")\n"
   ]
  },
  {
   "cell_type": "markdown",
   "metadata": {},
   "source": [
    "## All DF Processed Dataset (Transposed Version)\n"
   ]
  },
  {
   "cell_type": "code",
   "execution_count": 87,
   "metadata": {},
   "outputs": [
    {
     "data": {
      "text/plain": [
       "Index(['ISO3_Code', 'Country_Name', 'M49_Code', 'Life_Expectancy_2016',\n",
       "       'Life_Expectancy_2017', 'Life_Expectancy_2018', 'Life_Expectancy_2019',\n",
       "       'Life_Expectancy_2020', 'Mean_Years_Of_Schooling_2016',\n",
       "       'Mean_Years_Of_Schooling_2017', 'Mean_Years_Of_Schooling_2018',\n",
       "       'Mean_Years_Of_Schooling_2019', 'Mean_Years_Of_Schooling_2020',\n",
       "       'CPI_Food_2016', 'CPI_Food_2017', 'CPI_Food_2018', 'CPI_Food_2019',\n",
       "       'CPI_Food_2020', 'Net_FDI_2016', 'Net_FDI_2017', 'Net_FDI_2018',\n",
       "       'Net_FDI_2019', 'Net_FDI_2020', 'Infant_Mortality_Rate_2016',\n",
       "       'Infant_Mortality_Rate_2017', 'Infant_Mortality_Rate_2018',\n",
       "       'Infant_Mortality_Rate_2019', 'Infant_Mortality_Rate_2020',\n",
       "       'Unemployment_2016', 'Unemployment_2017', 'Unemployment_2018',\n",
       "       'Unemployment_2019', 'Unemployment_2020', 'Access_To_Electricity_2016',\n",
       "       'Access_To_Electricity_2017', 'Access_To_Electricity_2018',\n",
       "       'Access_To_Electricity_2019', 'Access_To_Electricity_2020',\n",
       "       'Fertility_Rate_2016', 'Fertility_Rate_2017', 'Fertility_Rate_2018',\n",
       "       'Fertility_Rate_2019', 'Fertility_Rate_2020',\n",
       "       'Immunization_Measles_2016', 'Immunization_Measles_2017',\n",
       "       'Immunization_Measles_2018', 'Immunization_Measles_2019',\n",
       "       'Immunization_Measles_2020', 'Labor_Force_Gender_Ratio_2016',\n",
       "       'Labor_Force_Gender_Ratio_2017', 'Labor_Force_Gender_Ratio_2018',\n",
       "       'Labor_Force_Gender_Ratio_2019', 'Labor_Force_Gender_Ratio_2020',\n",
       "       'Corruption_Perception_Index_2020', 'Corruption_Perception_Index_2019',\n",
       "       'Corruption_Perception_Index_2018', 'Corruption_Perception_Index_2017',\n",
       "       'Corruption_Perception_Index_2016',\n",
       "       'Prevalence_of_undernourishment_2016',\n",
       "       'Prevalence_of_undernourishment_2017',\n",
       "       'Prevalence_of_undernourishment_2018',\n",
       "       'Prevalence_of_undernourishment_2019',\n",
       "       'Prevalence_of_undernourishment_2020'],\n",
       "      dtype='object')"
      ]
     },
     "execution_count": 87,
     "metadata": {},
     "output_type": "execute_result"
    }
   ],
   "source": [
    "df_all_processed_1 = pd.read_csv(\"..\\..\\Datasets\\Processed\\All_DF_Processed.csv\")\n",
    "df_all_processed_1.columns"
   ]
  },
  {
   "cell_type": "markdown",
   "metadata": {},
   "source": [
    "### Transposed Processed DF Pre-Processing\n"
   ]
  },
  {
   "cell_type": "code",
   "execution_count": 64,
   "metadata": {},
   "outputs": [
    {
     "name": "stdout",
     "output_type": "stream",
     "text": [
      "953.574367\n",
      "89.025426\n",
      "                                          Country_Name  Net_FDI_2020\n",
      "60                                             Ireland   82898.34679\n",
      "140                           United States of America   63510.00000\n",
      "47   United Kingdom of Great Britain and Northern I...   53133.33333\n",
      "59                                               India   52501.95178\n",
      "17                                              Brazil   50586.15178\n",
      "..                                                 ...           ...\n",
      "21                                              Canada  -24832.36439\n",
      "45                                              France  -26270.52242\n",
      "22                                         Switzerland  -63939.47576\n",
      "81                                          Luxembourg  -64941.87361\n",
      "68                                               Japan -105449.08350\n",
      "\n",
      "[148 rows x 2 columns]\n"
     ]
    }
   ],
   "source": [
    "print(df_all_processed_1[\"CPI_Food_2016\"].max())\n",
    "print(df_all_processed_1[\"CPI_Food_2016\"].min())\n",
    "\n",
    "print(df_all_processed_1.loc[:, [\"Country_Name\", \"Net_FDI_2020\"]].sort_values(by=\"Net_FDI_2020\", ascending=False))"
   ]
  },
  {
   "cell_type": "markdown",
   "metadata": {},
   "source": [
    "### Creating Cat Cols from Numerical Cols\n",
    "\n",
    "*Year-on-Year analysis*\n",
    "\n",
    "1. For each Year => Map the respective independent variable cols to cat cols\n",
    "2. Plot univariate plots for Prevalence of Undernourishment with Hue of the generated Cat Cols\n",
    "3. Plot bivariate plots for Prevalence of Undernourishment (y) and Generated Cat Cols (x)"
   ]
  },
  {
   "cell_type": "code",
   "execution_count": 82,
   "metadata": {},
   "outputs": [
    {
     "name": "stdout",
     "output_type": "stream",
     "text": [
      "88.0\n",
      "12.0\n",
      "90.0\n",
      "10.0\n"
     ]
    },
    {
     "data": {
      "text/plain": [
       "'\\nRanges\\nUnemployment: 0.3 - 29.3\\nAccess to Electricity: 9 - 100\\nMean Years of Schooling: 1 - 15\\nNET FDI: -155000 - 85000\\n'"
      ]
     },
     "execution_count": 82,
     "metadata": {},
     "output_type": "execute_result"
    }
   ],
   "source": [
    "## Max Min\n",
    "\n",
    "# print(df_all_processed_1[\"Unemployment_2020\"].max())\n",
    "# print(df_all_processed_1[\"Unemployment_2020\"].min())\n",
    "\n",
    "# print(df_all_processed_1[\"Access_To_Electricity_2016\"].max())\n",
    "# print(df_all_processed_1[\"Access_To_Electricity_2016\"].min())\n",
    "\n",
    "# print(df_all_processed_1[\"Mean_Years_Of_Schooling_2016\"].max())\n",
    "# print(df_all_processed_1[\"Mean_Years_Of_Schooling_2016\"].min())\n",
    "\n",
    "# print(df_all_processed_1[\"Mean_Years_Of_Schooling_2016\"].max())\n",
    "# print(df_all_processed_1[\"Mean_Years_Of_Schooling_2016\"].min())\n",
    "\n",
    "# print(df_all_processed_1[\"Net_FDI_2016\"].max())\n",
    "# print(df_all_processed_1[\"Net_FDI_2016\"].min())\n",
    "\n",
    "# print(df_all_processed_1[\"Net_FDI_2017\"].max())\n",
    "# print(df_all_processed_1[\"Net_FDI_2017\"].min())\n",
    "\n",
    "# print(df_all_processed_1[\"Net_FDI_2018\"].max())\n",
    "# print(df_all_processed_1[\"Net_FDI_2018\"].min())\n",
    "\n",
    "# print(df_all_processed_1[\"Net_FDI_2019\"].max())\n",
    "# print(df_all_processed_1[\"Net_FDI_2019\"].min())\n",
    "\n",
    "# print(df_all_processed_1[\"Net_FDI_2020\"].max())\n",
    "# print(df_all_processed_1[\"Net_FDI_2020\"].min())\n",
    "\n",
    "print(df_all_processed_1[\"Corruption_Perception_Index_2020\"].max())\n",
    "print(df_all_processed_1[\"Corruption_Perception_Index_2020\"].min())\n",
    "\n",
    "print(df_all_processed_1[\"Corruption_Perception_Index_2016\"].max())\n",
    "print(df_all_processed_1[\"Corruption_Perception_Index_2016\"].min())\n",
    "\"\"\"\n",
    "Ranges\n",
    "Unemployment: 0.3 - 29.3\n",
    "Access to Electricity: 9 - 100\n",
    "Mean Years of Schooling: 1 - 15\n",
    "NET FDI: -155000 - 85000\n",
    "\"\"\""
   ]
  },
  {
   "cell_type": "code",
   "execution_count": 101,
   "metadata": {},
   "outputs": [],
   "source": [
    "## Creating Cat Cols\n",
    "cols_dict = {\n",
    "    \"Prevalence\" : [\"Prevalence_of_undernourishment_2016\", \"Prevalence_of_undernourishment_2017\", \"Prevalence_of_undernourishment_2018\",\"Prevalence_of_undernourishment_2019\",\"Prevalence_of_undernourishment_2020\"],\n",
    "    \"Life_Expectancy\" : ['Life_Expectancy_2016','Life_Expectancy_2017', 'Life_Expectancy_2018', 'Life_Expectancy_2019','Life_Expectancy_2020'],\n",
    "    \"CPI_Food\": ['CPI_Food_2016', 'CPI_Food_2017', 'CPI_Food_2018', 'CPI_Food_2019', 'CPI_Food_2020'],\n",
    "    \"Net_FDI\": ['Net_FDI_2016', 'Net_FDI_2017','Net_FDI_2018', 'Net_FDI_2019', 'Net_FDI_2020'],\n",
    "    \"Unemployment\": [ 'Unemployment_2016', 'Unemployment_2017', 'Unemployment_2018','Unemployment_2019', 'Unemployment_2020'],\n",
    "    \"Mean_Years_of_Schooling\": ['Mean_Years_Of_Schooling_2016','Mean_Years_Of_Schooling_2017', 'Mean_Years_Of_Schooling_2018','Mean_Years_Of_Schooling_2019', 'Mean_Years_Of_Schooling_2020'],\n",
    "    \"Access_To_Electricity\": ['Access_To_Electricity_2016', 'Access_To_Electricity_2017', 'Access_To_Electricity_2018','Access_To_Electricity_2019', 'Access_To_Electricity_2020',],\n",
    "    \"Corruption_Index\": [\"Corruption_Perception_Index_2016\", 'Corruption_Perception_Index_2017', 'Corruption_Perception_Index_2018','Corruption_Perception_Index_2019','Corruption_Perception_Index_2020']\n",
    "}\n",
    "\n",
    "def create_cat_cols(\n",
    "    df_in : pd.DataFrame,\n",
    "    cols_dict: dict,\n",
    "    key: str,\n",
    "    boundary_intervals_values: list,\n",
    "    boundary_intervals_names: list\n",
    "):  \n",
    "    for item in range(len(cols_dict[key])):\n",
    "        df_in[f\"{cols_dict[key][item]}_Cat\"] = pd.cut(df_in[cols_dict[key][item]], bins=boundary_intervals_values, labels=boundary_intervals_names)\n",
    "    return df_in"
   ]
  },
  {
   "cell_type": "code",
   "execution_count": 102,
   "metadata": {},
   "outputs": [
    {
     "data": {
      "text/plain": [
       "Index(['ISO3_Code', 'Country_Name', 'M49_Code', 'Life_Expectancy_2016',\n",
       "       'Life_Expectancy_2017', 'Life_Expectancy_2018', 'Life_Expectancy_2019',\n",
       "       'Life_Expectancy_2020', 'Mean_Years_Of_Schooling_2016',\n",
       "       'Mean_Years_Of_Schooling_2017', 'Mean_Years_Of_Schooling_2018',\n",
       "       'Mean_Years_Of_Schooling_2019', 'Mean_Years_Of_Schooling_2020',\n",
       "       'CPI_Food_2016', 'CPI_Food_2017', 'CPI_Food_2018', 'CPI_Food_2019',\n",
       "       'CPI_Food_2020', 'Net_FDI_2016', 'Net_FDI_2017', 'Net_FDI_2018',\n",
       "       'Net_FDI_2019', 'Net_FDI_2020', 'Infant_Mortality_Rate_2016',\n",
       "       'Infant_Mortality_Rate_2017', 'Infant_Mortality_Rate_2018',\n",
       "       'Infant_Mortality_Rate_2019', 'Infant_Mortality_Rate_2020',\n",
       "       'Unemployment_2016', 'Unemployment_2017', 'Unemployment_2018',\n",
       "       'Unemployment_2019', 'Unemployment_2020', 'Access_To_Electricity_2016',\n",
       "       'Access_To_Electricity_2017', 'Access_To_Electricity_2018',\n",
       "       'Access_To_Electricity_2019', 'Access_To_Electricity_2020',\n",
       "       'Fertility_Rate_2016', 'Fertility_Rate_2017', 'Fertility_Rate_2018',\n",
       "       'Fertility_Rate_2019', 'Fertility_Rate_2020',\n",
       "       'Immunization_Measles_2016', 'Immunization_Measles_2017',\n",
       "       'Immunization_Measles_2018', 'Immunization_Measles_2019',\n",
       "       'Immunization_Measles_2020', 'Labor_Force_Gender_Ratio_2016',\n",
       "       'Labor_Force_Gender_Ratio_2017', 'Labor_Force_Gender_Ratio_2018',\n",
       "       'Labor_Force_Gender_Ratio_2019', 'Labor_Force_Gender_Ratio_2020',\n",
       "       'Corruption_Perception_Index_2020', 'Corruption_Perception_Index_2019',\n",
       "       'Corruption_Perception_Index_2018', 'Corruption_Perception_Index_2017',\n",
       "       'Corruption_Perception_Index_2016',\n",
       "       'Prevalence_of_undernourishment_2016',\n",
       "       'Prevalence_of_undernourishment_2017',\n",
       "       'Prevalence_of_undernourishment_2018',\n",
       "       'Prevalence_of_undernourishment_2019',\n",
       "       'Prevalence_of_undernourishment_2020', 'Life_Expectancy_2016_Cat',\n",
       "       'Life_Expectancy_2017_Cat', 'Life_Expectancy_2018_Cat',\n",
       "       'Life_Expectancy_2019_Cat', 'Life_Expectancy_2020_Cat',\n",
       "       'Unemployment_2016_Cat', 'Unemployment_2017_Cat',\n",
       "       'Unemployment_2018_Cat', 'Unemployment_2019_Cat',\n",
       "       'Unemployment_2020_Cat', 'Mean_Years_Of_Schooling_2016_Cat',\n",
       "       'Mean_Years_Of_Schooling_2017_Cat', 'Mean_Years_Of_Schooling_2018_Cat',\n",
       "       'Mean_Years_Of_Schooling_2019_Cat', 'Mean_Years_Of_Schooling_2020_Cat',\n",
       "       'Access_To_Electricity_2016_Cat', 'Access_To_Electricity_2017_Cat',\n",
       "       'Access_To_Electricity_2018_Cat', 'Access_To_Electricity_2019_Cat',\n",
       "       'Access_To_Electricity_2020_Cat', 'Net_FDI_2016_Cat',\n",
       "       'Net_FDI_2017_Cat', 'Net_FDI_2018_Cat', 'Net_FDI_2019_Cat',\n",
       "       'Net_FDI_2020_Cat', 'Corruption_Perception_Index_2016_Cat',\n",
       "       'Corruption_Perception_Index_2017_Cat',\n",
       "       'Corruption_Perception_Index_2018_Cat',\n",
       "       'Corruption_Perception_Index_2019_Cat',\n",
       "       'Corruption_Perception_Index_2020_Cat', 'CPI_Food_2016_Cat',\n",
       "       'CPI_Food_2017_Cat', 'CPI_Food_2018_Cat', 'CPI_Food_2019_Cat',\n",
       "       'CPI_Food_2020_Cat'],\n",
       "      dtype='object')"
      ]
     },
     "execution_count": 102,
     "metadata": {},
     "output_type": "execute_result"
    }
   ],
   "source": [
    "# Life Expectancy\n",
    "df_all_processed_1 = create_cat_cols(df_all_processed_1, cols_dict, \"Life_Expectancy\", [50,60,70,80,90], [\"50-60\",\"60-70\",\"70-80\",\"80-90\"])\n",
    "\n",
    "# Unemployment\n",
    "df_all_processed_1 = create_cat_cols(df_all_processed_1, cols_dict, \"Unemployment\", [0,5,10,15,20,25,30], [\"0-5\", \"5-10\",\"10-15\",\"15-20\",\"20-25\",\"25-30\"])\n",
    "\n",
    "# Mean Years of Schooling\n",
    "df_all_processed_1 = create_cat_cols(df_all_processed_1, cols_dict, \"Mean_Years_of_Schooling\", [0,5,10,15], [\"0-5\", \"5-10\",\"10-15\"])\n",
    "\n",
    "# Access to Electricity\n",
    "df_all_processed_1 = create_cat_cols(df_all_processed_1, cols_dict, \"Access_To_Electricity\", [0,20,40,60,80,100], [\"0-20\", \"20-40\",\"40-60\",\"60-80\",\"80-100\"])\n",
    "\n",
    "## Net FDI\n",
    "# NET FDI 2020: -155000 - 85000\n",
    "df_all_processed_1 = create_cat_cols(df_all_processed_1, cols_dict, \"Net_FDI\", [-155000,-100000,-50000,0,50000,100000], [\"(-155000)-(-100000)\",\"(-100000)-(-50000)\",\"(-50000)-0\",\"0-50000\", \"50000-100000\"])\n",
    "\n",
    "# Corruption Index\n",
    "df_all_processed_1 = create_cat_cols(df_all_processed_1, cols_dict, \"Corruption_Index\", [0,20,40,60,80,100], [\"0-20\", \"20-40\",\"40-60\",\"60-80\",\"80-100\"])\n",
    "\n",
    "# CPI Cat\n",
    "df_all_processed_1 = create_cat_cols(df_all_processed_1, cols_dict, \"CPI_Food\", [0,20,40,60,80,100], [\"0-20\", \"20-40\",\"40-60\",\"60-80\",\"80-100\"])\n",
    "\n",
    "df_all_processed_1.columns"
   ]
  },
  {
   "cell_type": "markdown",
   "metadata": {},
   "source": [
    "### Univariate Analysis"
   ]
  },
  {
   "cell_type": "code",
   "execution_count": 38,
   "metadata": {},
   "outputs": [],
   "source": [
    "def plot_transposed_df_univariate(\n",
    "    df_in: pd.DataFrame,\n",
    "    save_dest: str,\n",
    "    cols_dict: dict,\n",
    "    key: str,\n",
    "    x: str = \"Prevalence_of_undernourishment\",\n",
    "    \n",
    "    \n",
    "):  \n",
    "    dest_path = os.path.join(UNIVARIATE, save_dest)\n",
    "    if not os.path.isdir(dest_path):\n",
    "        os.mkdir(dest_path)\n",
    "    year_l = [2016,2017,2018,2019,2020]\n",
    "    plot_types = [\"Hist\", \"KDE\"]\n",
    "    for item in range(len(cols_dict[key])):\n",
    "        for plot_type in plot_types:\n",
    "            fig = PLOTS_TO_FUNC[plot_type](data=df_in, x=f\"{x}_{year_l[item]}\", hue=f\"{cols_dict[key][item]}_Cat\")\n",
    "            file_name = f\"{plot_type}_plot_{x}_hue_{cols_dict[key][item]}.png\"\n",
    "            save_fig(fig, dest_path, file_name)\n",
    "\n",
    "# Hue == Life Expectancy\n",
    "plot_transposed_df_univariate(df_in=df_all_processed_1, save_dest=\"Transposed/Hue_Life_Expectancy\",cols_dict=cols_dict, key=\"Life_Expectancy\",x=\"Prevalence_of_undernourishment\")\n",
    "\n",
    "# Hue == Unemployment\n",
    "plot_transposed_df_univariate(df_in=df_all_processed_1, save_dest=\"Transposed/Hue_Unemployment\",cols_dict=cols_dict, key=\"Unemployment\",x=\"Prevalence_of_undernourishment\")\n",
    "\n",
    "# Hue == Mean Years of Schooling\n",
    "plot_transposed_df_univariate(df_in=df_all_processed_1, save_dest=\"Transposed/Hue_Mean_Yrs_Schooling\",cols_dict=cols_dict, key=\"Mean_Years_of_Schooling\",x=\"Prevalence_of_undernourishment\")\n",
    "\n",
    "# Hue == Access to Electricity\n",
    "plot_transposed_df_univariate(df_in=df_all_processed_1, save_dest=\"Transposed/Hue_Access_To_Electricity\",cols_dict=cols_dict, key=\"Access_To_Electricity\",x=\"Prevalence_of_undernourishment\")"
   ]
  },
  {
   "cell_type": "markdown",
   "metadata": {},
   "source": [
    "### Findings from Univariate Analysis\n",
    "1. Access to Electricity, Unemployment, Mean Years of Schooling, Life Expectancy have an inverse relationship with Prevalence of Undernourishment \n",
    "- This gives us confirmation from our initial insight using the heatmap of correlation between columns\n"
   ]
  },
  {
   "cell_type": "markdown",
   "metadata": {},
   "source": [
    "## Bivariate Analysis"
   ]
  },
  {
   "cell_type": "code",
   "execution_count": 92,
   "metadata": {},
   "outputs": [],
   "source": [
    "def plot_transposed_df_bivariate_hue(\n",
    "    df_in: pd.DataFrame,\n",
    "    save_dest: str,\n",
    "    cols_dict: dict,\n",
    "    key: str,\n",
    "    hue_l = str,\n",
    "    x: str = \"Prevalence_of_undernourishment\",\n",
    "):  \n",
    "    dest_path = os.path.join(BIVARIATE, save_dest)\n",
    "    if not os.path.isdir(dest_path):\n",
    "        os.mkdir(dest_path)\n",
    "    year_l = [2016,2017,2018,2019,2020]\n",
    "    plot_types = [\"Bar\", \"Violin\", \"Scatter\"]\n",
    "    \n",
    "    for item in range(len(cols_dict[key])):\n",
    "        for plot_type in plot_types:\n",
    "            fig = PLOTS_TO_FUNC[plot_type](data=df_in,x=f\"{cols_dict[key][item]}_Cat\", y=f\"{x}_{year_l[item]}\", hue=f\"{cols_dict[hue_l][item]}_Cat\")\n",
    "            file_name = f\"{plot_type}_plot_y_{x}_x_{cols_dict[key][item]}.png\"\n",
    "            save_fig(fig, dest_path, file_name)\n",
    "\n",
    "def plot_transposed_df_bivariate_no_hue(\n",
    "    df_in: pd.DataFrame,\n",
    "    save_dest: str,\n",
    "    cols_dict: dict,\n",
    "    key: str,\n",
    "    x: str = \"Prevalence_of_undernourishment\",\n",
    "):  \n",
    "    dest_path = os.path.join(BIVARIATE, save_dest)\n",
    "    if not os.path.isdir(dest_path):\n",
    "        os.mkdir(dest_path)\n",
    "    year_l = [2016,2017,2018,2019,2020]\n",
    "    plot_types = [\"Bar\", \"Violin\", \"Scatter\"]\n",
    "\n",
    "    for item in range(len(cols_dict[key])):\n",
    "        for plot_type in plot_types:\n",
    "            fig = PLOTS_TO_FUNC[plot_type](data=df_in,x=f\"{cols_dict[key][item]}_Cat\", y=f\"{x}_{year_l[item]}\")\n",
    "            file_name = f\"{plot_type}_plot_y_{x}_x_{cols_dict[key][item]}.png\"\n",
    "            save_fig(fig, dest_path, file_name)"
   ]
  },
  {
   "cell_type": "code",
   "execution_count": null,
   "metadata": {},
   "outputs": [],
   "source": [
    "# X == Life Expectancy\n",
    "plot_transposed_df_bivariate_hue(df_in=df_all_processed_1, save_dest=\"Transposed/x_Life_Expectancy\",cols_dict=cols_dict, key=\"Life_Expectancy\",hue_l=\"Unemployment\" , x=\"Prevalence_of_undernourishment\")\n",
    "\n",
    "# X == Unemployment\n",
    "# plot_transposed_df_bivariate(df_in=df_all_processed_1, save_dest=\"Transposed/x_Unemployment\",cols_dict=cols_dict, key=\"Unemployment\",x=\"Prevalence_of_undernourishment\")\n",
    "\n",
    "# # X == Mean Years of Schooling\n",
    "# plot_transposed_df_bivariate(df_in=df_all_processed_1, save_dest=\"Transposed/x_Mean_Yrs_Schooling\",cols_dict=cols_dict, key=\"Mean_Years_of_Schooling\",x=\"Prevalence_of_undernourishment\")\n",
    "\n",
    "# # X == Access to Electricity\n",
    "# plot_transposed_df_bivariate(df_in=df_all_processed_1, save_dest=\"Transposed/x_Access_To_Electricity\",cols_dict=cols_dict, key=\"Access_To_Electricity\",x=\"Prevalence_of_undernourishment\")"
   ]
  },
  {
   "cell_type": "markdown",
   "metadata": {},
   "source": [
    "1. Bivariate\n",
    "- Net FDI cat vs Prevalence\n",
    "- Access to electricity cat vs Prevalence\n",
    "- Corruption index cat vs Prevalence\n",
    "- Life Expectancy cat vs Fertility rate => these two vars seem interchangable\n",
    "- Mean years of schooling cat vs fertility rate => these two vars seem interchangable\n",
    "- CPI Food cat vs Prevalence (remove outliers in linear regression ipynb file)"
   ]
  },
  {
   "cell_type": "code",
   "execution_count": 93,
   "metadata": {},
   "outputs": [],
   "source": [
    "## Net FDI vs Prevalence\n",
    "plot_transposed_df_bivariate_no_hue(df_in=df_all_processed_1, save_dest=\"Transposed/x_Net_FDI\",cols_dict=cols_dict, key=\"Net_FDI\", x=\"Prevalence_of_undernourishment\")\n",
    "\n",
    "## Access to Electricity vs Prevalence\n",
    "plot_transposed_df_bivariate_no_hue(df_in=df_all_processed_1, save_dest=\"Transposed/x_Access_To_Electricity\",cols_dict=cols_dict, key=\"Access_To_Electricity\", x=\"Prevalence_of_undernourishment\")\n",
    "\n",
    "## Corruption Index vs Prevalence\n",
    "plot_transposed_df_bivariate_no_hue(df_in=df_all_processed_1, save_dest=\"Transposed/x_Corruption_Index\",cols_dict=cols_dict, key=\"Corruption_Index\", x=\"Prevalence_of_undernourishment\")\n",
    "\n",
    "## Life Expectancy Cat vs Fertility Rate\n",
    "plot_transposed_df_bivariate_no_hue(df_in=df_all_processed_1, save_dest=\"Transposed/x_Life_expectancy_y_Fertility_Rate\",cols_dict=cols_dict, key=\"Life_Expectancy\", x=\"Fertility_Rate\")\n",
    "\n",
    "## Mean Years of Schooling Cat vs Fertility Rate\n",
    "plot_transposed_df_bivariate_no_hue(df_in=df_all_processed_1, save_dest=\"Transposed/x_Mean_Yrs_Schooling_y_Fertility_Rate\",cols_dict=cols_dict, key=\"Mean_Years_of_Schooling\", x=\"Fertility_Rate\")\n",
    "\n",
    "## CPI Food Cat vs Prevalence\n",
    "plot_transposed_df_bivariate_no_hue(df_in=df_all_processed_1, save_dest=\"Transposed/x_CPI_Food\",cols_dict=cols_dict, key=\"CPI_Food\", x=\"Prevalence_of_undernourishment\")"
   ]
  },
  {
   "cell_type": "code",
   "execution_count": 95,
   "metadata": {},
   "outputs": [
    {
     "data": {
      "text/plain": [
       "5.885"
      ]
     },
     "execution_count": 95,
     "metadata": {},
     "output_type": "execute_result"
    }
   ],
   "source": [
    "df_all_processed_1[\"Fertility_Rate_2020\"].max()"
   ]
  }
 ],
 "metadata": {
  "kernelspec": {
   "display_name": "Python 3.10.6 ('viz_env')",
   "language": "python",
   "name": "python3"
  },
  "language_info": {
   "codemirror_mode": {
    "name": "ipython",
    "version": 3
   },
   "file_extension": ".py",
   "mimetype": "text/x-python",
   "name": "python",
   "nbconvert_exporter": "python",
   "pygments_lexer": "ipython3",
   "version": "3.10.6"
  },
  "orig_nbformat": 4,
  "vscode": {
   "interpreter": {
    "hash": "5e714549f14d03f6249c54208929618ad61ce019036de2975eef5f164089b37f"
   }
  }
 },
 "nbformat": 4,
 "nbformat_minor": 2
}
