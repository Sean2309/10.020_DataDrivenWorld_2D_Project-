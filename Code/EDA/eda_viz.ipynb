{
 "cells": [
  {
   "cell_type": "code",
   "execution_count": 118,
   "metadata": {},
   "outputs": [],
   "source": [
    "import pandas as pd\n",
    "import numpy as np\n",
    "import matplotlib as mpl\n",
    "import matplotlib.pyplot as plt\n",
    "import seaborn as sns\n",
    "import os"
   ]
  },
  {
   "cell_type": "markdown",
   "metadata": {},
   "source": [
    "## DF Parsing + Pre-Processing"
   ]
  },
  {
   "cell_type": "code",
   "execution_count": 119,
   "metadata": {},
   "outputs": [],
   "source": [
    "df_undernourishment = pd.read_csv(\"..\\..\\Datasets\\Processed\\Prevalence_of_Undernourishment_Processed.csv\")\n",
    "df_net_fdi = pd.read_csv(\"..\\..\\Datasets\\Processed/Net_FDI_Processed.csv\")\n",
    "df_cpi = pd.read_csv(\"..\\..\\Datasets\\Processed\\CPI_Food_Processed.csv\", encoding=\"ISO-8859-1\")\n",
    "df_socio_factors = pd.read_csv(\"..\\..\\Datasets\\Processed\\SocioFactors_Processed.csv\", encoding=\"ISO-8859-1\")\n"
   ]
  },
  {
   "cell_type": "code",
   "execution_count": 120,
   "metadata": {},
   "outputs": [
    {
     "name": "stdout",
     "output_type": "stream",
     "text": [
      "Index(['M49_Code', 'Country_Name', '2016_(%)', '2017_(%)', '2018_(%)',\n",
      "       '2019_(%)', '2020_(%)'],\n",
      "      dtype='object')\n",
      "Index(['M49_Code', 'Country_Name', 'Total_FDI_Inflows_2016',\n",
      "       'Total_FDI_Inflows_2017', 'Total_FDI_Inflows_2018',\n",
      "       'Total_FDI_Inflows_2019', 'Total_FDI_Inflows_2020',\n",
      "       'Total_FDI_Outflows_2016', 'Total_FDI_Outflows_2017',\n",
      "       'Total_FDI_Outflows_2018', 'Total_FDI_Outflows_2019',\n",
      "       'Total_FDI_Outflows_2020', 'Net_FDI_2016', 'Net_FDI_2017',\n",
      "       'Net_FDI_2018', 'Net_FDI_2019', 'Net_FDI_2020'],\n",
      "      dtype='object')\n",
      "Index(['M49_Code', 'Country_Name', 'ISO3_Code', 'CPI_Food_2016',\n",
      "       'CPI_Food_2017', 'CPI_Food_2018', 'CPI_Food_2019', 'CPI_Food_2020',\n",
      "       'CPI_Food_Avg'],\n",
      "      dtype='object')\n",
      "Index(['ISO3_Code', 'Country_Name', 'M49_Code', 'Life_Expectancy_2016',\n",
      "       'Life_Expectancy_2017', 'Life_Expectancy_2018', 'Life_Expectancy_2019',\n",
      "       'Life_Expectancy_2020', 'Life_Expectancy_Avg',\n",
      "       'Mean_Years_Of_Schooling_2016', 'Mean_Years_Of_Schooling_2017',\n",
      "       'Mean_Years_Of_Schooling_2018', 'Mean_Years_Of_Schooling_2019',\n",
      "       'Mean_Years_Of_Schooling_2020', 'Mean_Years_of_Schooling_Avg'],\n",
      "      dtype='object')\n"
     ]
    }
   ],
   "source": [
    "df_undernourishment.rename(columns={'Prevalence_of_undernourishment_2016': \"2016_(%)\",'Prevalence_of_undernourishment_2017': \"2017_(%)\",'Prevalence_of_undernourishment_2018': \"2018_(%)\",'Prevalence_of_undernourishment_2019': \"2019_(%)\", 'Prevalence_of_undernourishment_2020': \"2020_(%)\"}, inplace=True)\n",
    "df_undernourishment = df_undernourishment.replace(\"<2.5\", \"1.5\")\n",
    "\n",
    "df_cpi.rename(columns={\"ISO3 Code\": \"ISO3_Code\"}, inplace=True) # remove after CPI df col naming resolved\n",
    "df_undernourishment.drop(\"Unnamed: 0\", axis=1, inplace=True)\n",
    "df_net_fdi.drop(\"Unnamed: 0\", axis=1, inplace=True)\n",
    "\n",
    "print(df_undernourishment.columns)\n",
    "print(df_net_fdi.columns)\n",
    "print(df_cpi.columns)\n",
    "print(df_socio_factors.columns)"
   ]
  },
  {
   "cell_type": "code",
   "execution_count": 121,
   "metadata": {},
   "outputs": [
    {
     "name": "stdout",
     "output_type": "stream",
     "text": [
      "M49_Code           int64\n",
      "Country_Name      object\n",
      "ISO3_Code         object\n",
      "CPI_Food_2016    float64\n",
      "CPI_Food_2017    float64\n",
      "CPI_Food_2018    float64\n",
      "CPI_Food_2019    float64\n",
      "CPI_Food_2020    float64\n",
      "CPI_Food_Avg     float64\n",
      "dtype: object\n",
      "ISO3_Code                        object\n",
      "Country_Name                     object\n",
      "M49_Code                        float64\n",
      "Life_Expectancy_2016            float64\n",
      "Life_Expectancy_2017            float64\n",
      "Life_Expectancy_2018            float64\n",
      "Life_Expectancy_2019            float64\n",
      "Life_Expectancy_2020            float64\n",
      "Life_Expectancy_Avg             float64\n",
      "Mean_Years_Of_Schooling_2016    float64\n",
      "Mean_Years_Of_Schooling_2017    float64\n",
      "Mean_Years_Of_Schooling_2018    float64\n",
      "Mean_Years_Of_Schooling_2019    float64\n",
      "Mean_Years_Of_Schooling_2020    float64\n",
      "Mean_Years_of_Schooling_Avg     float64\n",
      "dtype: object\n"
     ]
    }
   ],
   "source": [
    "# print(df_undernourishment.dtypes)\n",
    "# print(df_net_fdi.dtypes)\n",
    "print(df_cpi.dtypes)\n",
    "print(df_socio_factors.dtypes)"
   ]
  },
  {
   "cell_type": "markdown",
   "metadata": {},
   "source": [
    "### Relevant Plotting Functions\n"
   ]
  },
  {
   "cell_type": "code",
   "execution_count": 122,
   "metadata": {},
   "outputs": [],
   "source": [
    "PLOTS_TO_FUNC = {\n",
    "    \"Hist\": sns.histplot,\n",
    "    \"KDE\": sns.kdeplot,\n",
    "    \"Ecdf\": sns.ecdfplot,\n",
    "    \"Bar\": sns.barplot,\n",
    "    \"Scatter\": sns.scatterplot,\n",
    "    \"Violin\": sns.violinplot,\n",
    "    \"Line\": sns.lineplot\n",
    "}\n"
   ]
  },
  {
   "cell_type": "code",
   "execution_count": 123,
   "metadata": {},
   "outputs": [],
   "source": [
    "def custom_settings(\n",
    "    markersize: float = 2,\n",
    "    linewidth: float = 0.5,\n",
    "    labelsize: float = 6.5\n",
    "):\n",
    "    mpl.rcdefaults()\n",
    "    mpl.rcParams[\"lines.markersize\"] = markersize\n",
    "    mpl.rcParams[\"lines.linewidth\"] = linewidth\n",
    "    mpl.rcParams[\"xtick.labelsize\"] = labelsize\n",
    "    ax = plt.gca()\n",
    "    ax.set_xlim((0, 55))\n",
    "    # simplefilter(action=\"ignore\")\n",
    "\n",
    "# custom_settings()"
   ]
  },
  {
   "cell_type": "code",
   "execution_count": 124,
   "metadata": {},
   "outputs": [],
   "source": [
    "def split_cols_exceeding_thresh(\n",
    "    df: pd.DataFrame,\n",
    "    label_name: str,\n",
    "    thresh: int = 5\n",
    ") -> dict:\n",
    "    \"\"\"\n",
    "    For the cols that exceed the categorical threshold \n",
    "        => This function will break down the unique vals of the col into n groups\n",
    "            where n = n_unique values of the col / categorical threshold\n",
    "    Returns dictionary where:\n",
    "        keys => arbitrary names (1,2,3,4,...)\n",
    "        values => list of values in the label col split according to the threshold\n",
    "    \"\"\"\n",
    "    d = {}\n",
    "    n_cuts = int(np.ceil((df[label_name].nunique()) / thresh))\n",
    "    l = df[label_name].sort_values()\n",
    "    col_names_l = np.array_split(l, n_cuts) \n",
    "    var_name_l = [i for i in range(0, n_cuts)]\n",
    "    for j in range(len(var_name_l)):\n",
    "        d[var_name_l[j]] = col_names_l[j]\n",
    "    return d\n"
   ]
  },
  {
   "cell_type": "code",
   "execution_count": 125,
   "metadata": {},
   "outputs": [],
   "source": [
    "def save_fig(\n",
    "    fig,\n",
    "    dest_path,\n",
    "    file_name\n",
    "):\n",
    "    locs, labels = plt.xticks()\n",
    "    plt.setp(labels, horizontalalignment=\"right\")\n",
    "\n",
    "    plt.savefig(os.path.join(dest_path, file_name), dpi=300, bbox_inches=\"tight\")\n",
    "    plt.close()"
   ]
  },
  {
   "cell_type": "markdown",
   "metadata": {},
   "source": [
    "## Univariate Analysis"
   ]
  },
  {
   "cell_type": "code",
   "execution_count": 147,
   "metadata": {},
   "outputs": [],
   "source": [
    "## Making Targeted Dir for plots to be saved in\n",
    "\n",
    "cwd = os.getcwd()\n",
    "UNIVARIATE = os.path.join(cwd,\"Graphs/Graphs_EDA/Univariate_Analysis\")\n",
    "BIVARIATE = os.path.join(cwd,\"Graphs/Graphs_EDA/Bivariate_Analysis\")\n",
    "if not os.path.isdir(UNIVARIATE):\n",
    "    os.makedirs(UNIVARIATE)\n",
    "if not os.path.isdir(BIVARIATE):\n",
    "    os.makedirs(BIVARIATE)\n",
    "\n",
    "plot_types_uni = [\"Hist\", \"KDE\"]"
   ]
  },
  {
   "cell_type": "code",
   "execution_count": 139,
   "metadata": {},
   "outputs": [
    {
     "name": "stdout",
     "output_type": "stream",
     "text": [
      "Prevalence\n",
      "Life_Expectancy\n",
      "Net_FDI\n"
     ]
    }
   ],
   "source": [
    "cols_dict = {\n",
    "    \"Prevalence\" : [\"2016_(%)\", \"2017_(%)\", \"2018_(%)\",\"2019_(%)\",\"2020_(%)\"],\n",
    "    \"Life_Expectancy\" : ['Life_Expectancy_2016','Life_Expectancy_2017', 'Life_Expectancy_2018', 'Life_Expectancy_2019','Life_Expectancy_2020', 'Life_Expectancy_Avg'],\n",
    "    # \"CPI\": ['CPI_Food_2016', 'CPI_Food_2017', 'CPI_Food_2018', 'CPI_Food_2019', 'CPI_Food_2020','CPI_Food_Avg'],\n",
    "    \"Net_FDI\": ['Net_FDI_2016', 'Net_FDI_2017','Net_FDI_2018', 'Net_FDI_2019', 'Net_FDI_2020']\n",
    "}\n",
    "\n",
    "\n",
    "\n",
    "# for k,v in cols_dict.items():\n",
    "#     df = pd.DataFrame\n",
    "#     if k == \"Prevalence\":\n",
    "#         df = df_undernourishment\n",
    "#     elif k == \"Life_Expectancy\":\n",
    "#         df = df_socio_factors\n",
    "#     elif k == \"CPI\":\n",
    "#         df = df_cpi\n",
    "#     elif k == \"Net_FDI\":\n",
    "#         df = df_net_fdi\n",
    "#     print(k)\n",
    "#     for col in cols_dict[k]:\n",
    "#         for plot_type in plot_types_uni:\n",
    "#             fig = PLOTS_TO_FUNC[plot_type](data=df, x=col)\n",
    "#             file_name = f\"{plot_type}_plot_{col}.png\"\n",
    "#             save_fig(fig, UNIVARIATE, file_name)\n",
    "\n"
   ]
  },
  {
   "cell_type": "markdown",
   "metadata": {},
   "source": [
    "### Creating Categories from Numerical Cols\n"
   ]
  },
  {
   "cell_type": "code",
   "execution_count": 128,
   "metadata": {},
   "outputs": [],
   "source": [
    "df_all_processed = pd.read_csv(\"..\\..\\Datasets\\Processed\\All_Processed.csv\")\n",
    "df_all_processed.sort_values(by=\"Country_Name\", inplace=True)"
   ]
  },
  {
   "cell_type": "code",
   "execution_count": 129,
   "metadata": {},
   "outputs": [
    {
     "data": {
      "text/plain": [
       "Index(['ISO3_Code', 'Country_Name', 'M49_Code', 'Year', 'Life_Expectancy',\n",
       "       'Mean_Years_Of_Schooling', 'CPI_Food', 'Net_FDI',\n",
       "       'Prevalence_of_undernourishment'],\n",
       "      dtype='object')"
      ]
     },
     "execution_count": 129,
     "metadata": {},
     "output_type": "execute_result"
    }
   ],
   "source": [
    "df_all_processed.columns"
   ]
  },
  {
   "cell_type": "code",
   "execution_count": 137,
   "metadata": {},
   "outputs": [
    {
     "name": "stdout",
     "output_type": "stream",
     "text": [
      "38753710727.95829\n",
      "86.673816\n"
     ]
    },
    {
     "data": {
      "text/html": [
       "<div>\n",
       "<style scoped>\n",
       "    .dataframe tbody tr th:only-of-type {\n",
       "        vertical-align: middle;\n",
       "    }\n",
       "\n",
       "    .dataframe tbody tr th {\n",
       "        vertical-align: top;\n",
       "    }\n",
       "\n",
       "    .dataframe thead th {\n",
       "        text-align: right;\n",
       "    }\n",
       "</style>\n",
       "<table border=\"1\" class=\"dataframe\">\n",
       "  <thead>\n",
       "    <tr style=\"text-align: right;\">\n",
       "      <th></th>\n",
       "      <th>ISO3_Code</th>\n",
       "      <th>Country_Name</th>\n",
       "      <th>M49_Code</th>\n",
       "      <th>Year</th>\n",
       "      <th>Life_Expectancy</th>\n",
       "      <th>Mean_Years_Of_Schooling</th>\n",
       "      <th>CPI_Food</th>\n",
       "      <th>Net_FDI</th>\n",
       "      <th>Prevalence_of_undernourishment</th>\n",
       "      <th>Life_Expectancy_Cat</th>\n",
       "      <th>Net_FDI_Cat</th>\n",
       "    </tr>\n",
       "  </thead>\n",
       "  <tbody>\n",
       "    <tr>\n",
       "      <th>754</th>\n",
       "      <td>VEN</td>\n",
       "      <td>Venezuela (Bolivarian Republic of)</td>\n",
       "      <td>862.0</td>\n",
       "      <td>2020</td>\n",
       "      <td>71.0949</td>\n",
       "      <td>11.107277</td>\n",
       "      <td>3.875371e+10</td>\n",
       "      <td>1037.333334</td>\n",
       "      <td>22.9</td>\n",
       "      <td>71-80</td>\n",
       "      <td>0-200000</td>\n",
       "    </tr>\n",
       "    <tr>\n",
       "      <th>602</th>\n",
       "      <td>VEN</td>\n",
       "      <td>Venezuela (Bolivarian Republic of)</td>\n",
       "      <td>862.0</td>\n",
       "      <td>2019</td>\n",
       "      <td>72.1614</td>\n",
       "      <td>11.107277</td>\n",
       "      <td>1.288889e+09</td>\n",
       "      <td>-142.000000</td>\n",
       "      <td>24.9</td>\n",
       "      <td>71-80</td>\n",
       "      <td>(-200000)-0</td>\n",
       "    </tr>\n",
       "    <tr>\n",
       "      <th>450</th>\n",
       "      <td>VEN</td>\n",
       "      <td>Venezuela (Bolivarian Republic of)</td>\n",
       "      <td>862.0</td>\n",
       "      <td>2018</td>\n",
       "      <td>71.9788</td>\n",
       "      <td>10.835699</td>\n",
       "      <td>1.594700e+07</td>\n",
       "      <td>225.000000</td>\n",
       "      <td>22.7</td>\n",
       "      <td>71-80</td>\n",
       "      <td>0-200000</td>\n",
       "    </tr>\n",
       "    <tr>\n",
       "      <th>298</th>\n",
       "      <td>VEN</td>\n",
       "      <td>Venezuela (Bolivarian Republic of)</td>\n",
       "      <td>862.0</td>\n",
       "      <td>2017</td>\n",
       "      <td>71.9430</td>\n",
       "      <td>10.570760</td>\n",
       "      <td>1.108619e+04</td>\n",
       "      <td>-2302.000000</td>\n",
       "      <td>22.2</td>\n",
       "      <td>71-80</td>\n",
       "      <td>(-200000)-0</td>\n",
       "    </tr>\n",
       "    <tr>\n",
       "      <th>728</th>\n",
       "      <td>SDN</td>\n",
       "      <td>Sudan</td>\n",
       "      <td>729.0</td>\n",
       "      <td>2020</td>\n",
       "      <td>65.6136</td>\n",
       "      <td>3.820000</td>\n",
       "      <td>1.621521e+03</td>\n",
       "      <td>1284.407750</td>\n",
       "      <td>12.8</td>\n",
       "      <td>61-70</td>\n",
       "      <td>0-200000</td>\n",
       "    </tr>\n",
       "    <tr>\n",
       "      <th>...</th>\n",
       "      <td>...</td>\n",
       "      <td>...</td>\n",
       "      <td>...</td>\n",
       "      <td>...</td>\n",
       "      <td>...</td>\n",
       "      <td>...</td>\n",
       "      <td>...</td>\n",
       "      <td>...</td>\n",
       "      <td>...</td>\n",
       "      <td>...</td>\n",
       "      <td>...</td>\n",
       "    </tr>\n",
       "    <tr>\n",
       "      <th>741</th>\n",
       "      <td>TCD</td>\n",
       "      <td>Chad</td>\n",
       "      <td>148.0</td>\n",
       "      <td>2020</td>\n",
       "      <td>52.7774</td>\n",
       "      <td>2.573774</td>\n",
       "      <td>9.113692e+01</td>\n",
       "      <td>1284.407750</td>\n",
       "      <td>32.7</td>\n",
       "      <td>51-60</td>\n",
       "      <td>0-200000</td>\n",
       "    </tr>\n",
       "    <tr>\n",
       "      <th>285</th>\n",
       "      <td>TCD</td>\n",
       "      <td>Chad</td>\n",
       "      <td>148.0</td>\n",
       "      <td>2017</td>\n",
       "      <td>52.3076</td>\n",
       "      <td>2.388869</td>\n",
       "      <td>9.091219e+01</td>\n",
       "      <td>204.867505</td>\n",
       "      <td>29.1</td>\n",
       "      <td>51-60</td>\n",
       "      <td>0-200000</td>\n",
       "    </tr>\n",
       "    <tr>\n",
       "      <th>133</th>\n",
       "      <td>TCD</td>\n",
       "      <td>Chad</td>\n",
       "      <td>148.0</td>\n",
       "      <td>2016</td>\n",
       "      <td>52.0834</td>\n",
       "      <td>2.301459</td>\n",
       "      <td>8.902543e+01</td>\n",
       "      <td>3457.305457</td>\n",
       "      <td>28.5</td>\n",
       "      <td>51-60</td>\n",
       "      <td>0-200000</td>\n",
       "    </tr>\n",
       "    <tr>\n",
       "      <th>437</th>\n",
       "      <td>TCD</td>\n",
       "      <td>Chad</td>\n",
       "      <td>148.0</td>\n",
       "      <td>2018</td>\n",
       "      <td>52.8253</td>\n",
       "      <td>2.479598</td>\n",
       "      <td>8.678160e+01</td>\n",
       "      <td>3746.793298</td>\n",
       "      <td>30.3</td>\n",
       "      <td>51-60</td>\n",
       "      <td>0-200000</td>\n",
       "    </tr>\n",
       "    <tr>\n",
       "      <th>589</th>\n",
       "      <td>TCD</td>\n",
       "      <td>Chad</td>\n",
       "      <td>148.0</td>\n",
       "      <td>2019</td>\n",
       "      <td>53.2594</td>\n",
       "      <td>2.573774</td>\n",
       "      <td>8.667382e+01</td>\n",
       "      <td>1648.666222</td>\n",
       "      <td>31.7</td>\n",
       "      <td>51-60</td>\n",
       "      <td>0-200000</td>\n",
       "    </tr>\n",
       "  </tbody>\n",
       "</table>\n",
       "<p>760 rows × 11 columns</p>\n",
       "</div>"
      ],
      "text/plain": [
       "    ISO3_Code                        Country_Name  M49_Code  Year  \\\n",
       "754       VEN  Venezuela (Bolivarian Republic of)     862.0  2020   \n",
       "602       VEN  Venezuela (Bolivarian Republic of)     862.0  2019   \n",
       "450       VEN  Venezuela (Bolivarian Republic of)     862.0  2018   \n",
       "298       VEN  Venezuela (Bolivarian Republic of)     862.0  2017   \n",
       "728       SDN                               Sudan     729.0  2020   \n",
       "..        ...                                 ...       ...   ...   \n",
       "741       TCD                                Chad     148.0  2020   \n",
       "285       TCD                                Chad     148.0  2017   \n",
       "133       TCD                                Chad     148.0  2016   \n",
       "437       TCD                                Chad     148.0  2018   \n",
       "589       TCD                                Chad     148.0  2019   \n",
       "\n",
       "     Life_Expectancy  Mean_Years_Of_Schooling      CPI_Food      Net_FDI  \\\n",
       "754          71.0949                11.107277  3.875371e+10  1037.333334   \n",
       "602          72.1614                11.107277  1.288889e+09  -142.000000   \n",
       "450          71.9788                10.835699  1.594700e+07   225.000000   \n",
       "298          71.9430                10.570760  1.108619e+04 -2302.000000   \n",
       "728          65.6136                 3.820000  1.621521e+03  1284.407750   \n",
       "..               ...                      ...           ...          ...   \n",
       "741          52.7774                 2.573774  9.113692e+01  1284.407750   \n",
       "285          52.3076                 2.388869  9.091219e+01   204.867505   \n",
       "133          52.0834                 2.301459  8.902543e+01  3457.305457   \n",
       "437          52.8253                 2.479598  8.678160e+01  3746.793298   \n",
       "589          53.2594                 2.573774  8.667382e+01  1648.666222   \n",
       "\n",
       "     Prevalence_of_undernourishment Life_Expectancy_Cat  Net_FDI_Cat  \n",
       "754                            22.9               71-80     0-200000  \n",
       "602                            24.9               71-80  (-200000)-0  \n",
       "450                            22.7               71-80     0-200000  \n",
       "298                            22.2               71-80  (-200000)-0  \n",
       "728                            12.8               61-70     0-200000  \n",
       "..                              ...                 ...          ...  \n",
       "741                            32.7               51-60     0-200000  \n",
       "285                            29.1               51-60     0-200000  \n",
       "133                            28.5               51-60     0-200000  \n",
       "437                            30.3               51-60     0-200000  \n",
       "589                            31.7               51-60     0-200000  \n",
       "\n",
       "[760 rows x 11 columns]"
      ]
     },
     "execution_count": 137,
     "metadata": {},
     "output_type": "execute_result"
    }
   ],
   "source": [
    "## Life Expectancy\n",
    "df_all_processed[\"Life_Expectancy_Cat\"] = pd.cut(df_all_processed[\"Life_Expectancy\"], bins=[51,60,70,80,90], labels=[\"51-60\",\"61-70\",\"71-80\",\"81-90\"])\n",
    "# df_all_processed[\"Life_Expectancy_Cat\"] = pd.cut(df_all_processed[\"Life_Expectancy\"], bins=[51,55,60,65,70,75,80,85,90], labels=[\"51-55\",\"56-60\",\"61-65\",\"66-70\",\"71-75\",\"76-80\",\"81-85\",\"86-90\"])\n",
    "\n",
    "## Net FDI\n",
    "df_all_processed[\"Net_FDI_Cat\"] = pd.cut(df_all_processed[\"Net_FDI\"], bins=[-400000,-200000,0,200000, 400000, 600000], labels=[\"<-200000\",\"(-200000)-0\",\"0-200000\",\"200000-400000\", \">400000\"])\n",
    "\n",
    "## CPI\n",
    "print(df_all_processed[\"CPI_Food\"].max())\n",
    "print(df_all_processed[\"CPI_Food\"].min())\n",
    "# CPI has a big outlier data points, might not be ideal for this\n",
    "df_all_processed.sort_values(by=\"CPI_Food\", ascending=False)"
   ]
  },
  {
   "cell_type": "code",
   "execution_count": 140,
   "metadata": {},
   "outputs": [],
   "source": [
    "fig = sns.histplot(data=df_all_processed, x=\"Prevalence_of_undernourishment\", hue=\"Life_Expectancy_Cat\")\n",
    "save_fig(fig, UNIVARIATE, \"Hist_plot_Prevalence_hue_life_expectancy.png\")\n"
   ]
  },
  {
   "cell_type": "code",
   "execution_count": 145,
   "metadata": {},
   "outputs": [],
   "source": [
    "fig = sns.histplot(data=df_all_processed, x=\"Prevalence_of_undernourishment\", hue=\"Net_FDI_Cat\")\n",
    "save_fig(fig, UNIVARIATE, \"Hist_plot_Prevalence_hue_NET_FDI.png\")"
   ]
  },
  {
   "cell_type": "markdown",
   "metadata": {},
   "source": [
    "## Bivariate Analysis\n",
    "\n"
   ]
  },
  {
   "cell_type": "code",
   "execution_count": 149,
   "metadata": {},
   "outputs": [],
   "source": [
    "plot_types_bi = [\"Hist\", \"Bar\", \"Scatter\", \"Violin\"]\n",
    "\n",
    "for plot_type in plot_types_bi:\n",
    "    fig = PLOTS_TO_FUNC[plot_type](data=df_all_processed, x=\"Life_Expectancy_Cat\", y=\"Prevalence_of_undernourishment\")\n",
    "    file_name = f\"{plot_type}_plot_Life_Expectancy_Prevalence.png\"\n",
    "    save_fig(fig, BIVARIATE, file_name)\n"
   ]
  },
  {
   "cell_type": "code",
   "execution_count": 155,
   "metadata": {},
   "outputs": [
    {
     "name": "stdout",
     "output_type": "stream",
     "text": [
      "                                    M49_Code          Year  Life_Expectancy  \\\n",
      "M49_Code                        1.000000e+00  5.455710e-13        -0.033021   \n",
      "Year                            5.455710e-13  1.000000e+00         0.005299   \n",
      "Life_Expectancy                -3.302071e-02  5.298630e-03         1.000000   \n",
      "Mean_Years_Of_Schooling        -9.138736e-03  3.802575e-02         0.773977   \n",
      "CPI_Food                        6.565036e-02  5.215979e-02        -0.007300   \n",
      "Net_FDI                         6.906865e-02 -1.435168e-02        -0.024566   \n",
      "Prevalence_of_undernourishment  7.108758e-02  2.033980e-02        -0.680891   \n",
      "\n",
      "                                Mean_Years_Of_Schooling  CPI_Food   Net_FDI  \\\n",
      "M49_Code                                      -0.009139  0.065650  0.069069   \n",
      "Year                                           0.038026  0.052160 -0.014352   \n",
      "Life_Expectancy                                0.773977 -0.007300 -0.024566   \n",
      "Mean_Years_Of_Schooling                        1.000000  0.024956 -0.016513   \n",
      "CPI_Food                                       0.024956  1.000000 -0.001402   \n",
      "Net_FDI                                       -0.016513 -0.001402  1.000000   \n",
      "Prevalence_of_undernourishment                -0.609682  0.048792 -0.013700   \n",
      "\n",
      "                                Prevalence_of_undernourishment  \n",
      "M49_Code                                              0.071088  \n",
      "Year                                                  0.020340  \n",
      "Life_Expectancy                                      -0.680891  \n",
      "Mean_Years_Of_Schooling                              -0.609682  \n",
      "CPI_Food                                              0.048792  \n",
      "Net_FDI                                              -0.013700  \n",
      "Prevalence_of_undernourishment                        1.000000  \n"
     ]
    }
   ],
   "source": [
    "## Heatmap\n",
    "\n",
    "corr = df_all_processed.corr()\n",
    "print(corr)\n",
    "fig = sns.heatmap(corr, vmin=-1, vmax=1, annot=True, cmap=\"BrBG\")\n",
    "save_fig(fig, BIVARIATE, \"Heat_Map_Correlation.png\")\n"
   ]
  }
 ],
 "metadata": {
  "kernelspec": {
   "display_name": "Python 3.10.6 ('viz_env')",
   "language": "python",
   "name": "python3"
  },
  "language_info": {
   "codemirror_mode": {
    "name": "ipython",
    "version": 3
   },
   "file_extension": ".py",
   "mimetype": "text/x-python",
   "name": "python",
   "nbconvert_exporter": "python",
   "pygments_lexer": "ipython3",
   "version": "3.10.6"
  },
  "orig_nbformat": 4,
  "vscode": {
   "interpreter": {
    "hash": "5e714549f14d03f6249c54208929618ad61ce019036de2975eef5f164089b37f"
   }
  }
 },
 "nbformat": 4,
 "nbformat_minor": 2
}
