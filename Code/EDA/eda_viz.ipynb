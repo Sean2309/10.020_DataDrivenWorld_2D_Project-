{
 "cells": [
  {
   "cell_type": "code",
   "execution_count": 2,
   "metadata": {},
   "outputs": [],
   "source": [
    "import pandas as pd\n",
    "import numpy as np\n",
    "import matplotlib as mpl\n",
    "import matplotlib.pyplot as plt\n",
    "import seaborn as sns\n",
    "import os"
   ]
  },
  {
   "cell_type": "markdown",
   "metadata": {},
   "source": [
    "## DF Parsing + Pre-Processing"
   ]
  },
  {
   "cell_type": "code",
   "execution_count": 3,
   "metadata": {},
   "outputs": [],
   "source": [
    "df_undernourishment = pd.read_csv(\".\\Datasets\\Processed\\Prevalence_of_Undernourishment_Processed.csv\")\n",
    "df_net_fdi = pd.read_csv(\".\\Datasets\\Processed/Net_FDI_Processed.csv\")\n",
    "df_cpi = pd.read_csv(\".\\Datasets\\Processed\\CPI_Food_Processed.csv\", encoding=\"ISO-8859-1\")\n",
    "df_socio_factors = pd.read_csv(\".\\Datasets\\Processed\\SocioFactors_Processed.csv\", encoding=\"ISO-8859-1\")\n"
   ]
  },
  {
   "cell_type": "code",
   "execution_count": 5,
   "metadata": {},
   "outputs": [
    {
     "name": "stdout",
     "output_type": "stream",
     "text": [
      "Index(['M49_Code', 'Country_Name', '2016_(%)', '2017_(%)', '2018_(%)',\n",
      "       '2019_(%)', '2020_(%)'],\n",
      "      dtype='object')\n",
      "Index(['M49_Code', 'Country_Name', 'Total_FDI_Inflows_2016',\n",
      "       'Total_FDI_Inflows_2017', 'Total_FDI_Inflows_2018',\n",
      "       'Total_FDI_Inflows_2019', 'Total_FDI_Inflows_2020',\n",
      "       'Total_FDI_Outflows_2016', 'Total_FDI_Outflows_2017',\n",
      "       'Total_FDI_Outflows_2018', 'Total_FDI_Outflows_2019',\n",
      "       'Total_FDI_Outflows_2020', 'Net_FDI_2016', 'Net_FDI_2017',\n",
      "       'Net_FDI_2018', 'Net_FDI_2019', 'Net_FDI_2020'],\n",
      "      dtype='object')\n",
      "Index(['M49_Code', 'Country_Name', 'ISO3_Code', 'CPI_Food_2016',\n",
      "       'CPI_Food_2017', 'CPI_Food_2018', 'CPI_Food_2019', 'CPI_Food_2020',\n",
      "       'CPI_Food_Avg'],\n",
      "      dtype='object')\n",
      "Index(['ISO3_Code', 'Country_Name', 'M49_Code', 'Life_Expectancy_2016',\n",
      "       'Life_Expectancy_2017', 'Life_Expectancy_2018', 'Life_Expectancy_2019',\n",
      "       'Life_Expectancy_2020', 'Life_Expectancy_Avg',\n",
      "       'Mean_Years_Of_Schooling_2016', 'Mean_Years_Of_Schooling_2017',\n",
      "       'Mean_Years_Of_Schooling_2018', 'Mean_Years_Of_Schooling_2019',\n",
      "       'Mean_Years_Of_Schooling_2020', 'Mean_Years_of_Schooling_Avg'],\n",
      "      dtype='object')\n"
     ]
    }
   ],
   "source": [
    "df_undernourishment.rename(columns={'Prevalence_of_undernourishment_2016': \"2016_(%)\",'Prevalence_of_undernourishment_2017': \"2017_(%)\",'Prevalence_of_undernourishment_2018': \"2018_(%)\",'Prevalence_of_undernourishment_2019': \"2019_(%)\", 'Prevalence_of_undernourishment_2020': \"2020_(%)\"}, inplace=True)\n",
    "df_undernourishment = df_undernourishment.replace(\"<2.5\", \"1.5\")\n",
    "\n",
    "df_cpi.rename(columns={\"ISO3 Code\": \"ISO3_Code\"}, inplace=True) # remove after CPI df col naming resolved\n",
    "df_undernourishment.drop(\"Unnamed: 0\", axis=1, inplace=True)\n",
    "df_net_fdi.drop(\"Unnamed: 0\", axis=1, inplace=True)\n",
    "\n",
    "print(df_undernourishment.columns)\n",
    "print(df_net_fdi.columns)\n",
    "print(df_cpi.columns)\n",
    "print(df_socio_factors.columns)"
   ]
  },
  {
   "cell_type": "code",
   "execution_count": null,
   "metadata": {},
   "outputs": [],
   "source": [
    "# print(df_undernourishment.dtypes)\n",
    "# print(df_net_fdi.dtypes)\n",
    "print(df_cpi.dtypes)\n",
    "print(df_socio_factors.dtypes)"
   ]
  },
  {
   "cell_type": "markdown",
   "metadata": {},
   "source": [
    "### Relevant Plotting Functions\n"
   ]
  },
  {
   "cell_type": "code",
   "execution_count": 12,
   "metadata": {},
   "outputs": [],
   "source": [
    "PLOTS_TO_FUNC = {\n",
    "    \"Hist\": sns.histplot,\n",
    "    \"KDE\": sns.kdeplot,\n",
    "    \"Ecdf\": sns.ecdfplot,\n",
    "    \"Bar\": sns.barplot,\n",
    "    \"Scatter\": sns.scatterplot,\n",
    "    \"Violin\": sns.violinplot,\n",
    "    \"Line\": sns.lineplot\n",
    "}\n"
   ]
  },
  {
   "cell_type": "code",
   "execution_count": 7,
   "metadata": {},
   "outputs": [],
   "source": [
    "def custom_settings(\n",
    "    markersize: float = 2,\n",
    "    linewidth: float = 0.5,\n",
    "    labelsize: float = 6.5\n",
    "):\n",
    "    mpl.rcdefaults()\n",
    "    mpl.rcParams[\"lines.markersize\"] = markersize\n",
    "    mpl.rcParams[\"lines.linewidth\"] = linewidth\n",
    "    mpl.rcParams[\"xtick.labelsize\"] = labelsize\n",
    "    ax = plt.gca()\n",
    "    ax.set_xlim((0, 55))\n",
    "    # simplefilter(action=\"ignore\")\n",
    "\n",
    "# custom_settings()"
   ]
  },
  {
   "cell_type": "code",
   "execution_count": 8,
   "metadata": {},
   "outputs": [],
   "source": [
    "def split_cols_exceeding_thresh(\n",
    "    df: pd.DataFrame,\n",
    "    label_name: str,\n",
    "    thresh: int = 5\n",
    ") -> dict:\n",
    "    \"\"\"\n",
    "    For the cols that exceed the categorical threshold \n",
    "        => This function will break down the unique vals of the col into n groups\n",
    "            where n = n_unique values of the col / categorical threshold\n",
    "    Returns dictionary where:\n",
    "        keys => arbitrary names (1,2,3,4,...)\n",
    "        values => list of values in the label col split according to the threshold\n",
    "    \"\"\"\n",
    "    d = {}\n",
    "    n_cuts = int(np.ceil((df[label_name].nunique()) / thresh))\n",
    "    l = df[label_name].sort_values()\n",
    "    col_names_l = np.array_split(l, n_cuts) \n",
    "    var_name_l = [i for i in range(0, n_cuts)]\n",
    "    for j in range(len(var_name_l)):\n",
    "        d[var_name_l[j]] = col_names_l[j]\n",
    "    return d\n"
   ]
  },
  {
   "cell_type": "code",
   "execution_count": 9,
   "metadata": {},
   "outputs": [],
   "source": [
    "def save_fig(\n",
    "    fig,\n",
    "    dest_path,\n",
    "    file_name\n",
    "):\n",
    "    locs, labels = plt.xticks()\n",
    "    plt.setp(labels, horizontalalignment=\"right\")\n",
    "\n",
    "    plt.savefig(os.path.join(dest_path, file_name), dpi=300, bbox_inches=\"tight\")\n",
    "    plt.close()"
   ]
  },
  {
   "cell_type": "markdown",
   "metadata": {},
   "source": [
    "## Univariate Analysis"
   ]
  },
  {
   "cell_type": "code",
   "execution_count": 10,
   "metadata": {},
   "outputs": [],
   "source": [
    "cwd = os.getcwd()\n",
    "UNIVARIATE = os.path.join(cwd,\"Graphs/Graphs_EDA/Univariate_Analysis\")\n",
    "BIVARIATE = os.path.join(cwd,\"Graphs/Graphs_EDA/Bivariate_Analysis\")"
   ]
  },
  {
   "cell_type": "code",
   "execution_count": 11,
   "metadata": {},
   "outputs": [],
   "source": [
    "if not os.path.isdir(UNIVARIATE):\n",
    "    os.makedirs(UNIVARIATE)"
   ]
  },
  {
   "cell_type": "code",
   "execution_count": 13,
   "metadata": {},
   "outputs": [],
   "source": [
    "cols_dict = {\n",
    "    \"Prevalence\" : [\"2016_(%)\", \"2017_(%)\", \"2018_(%)\",\"2019_(%)\",\"2020_(%)\"],\n",
    "    \"Life_Expectancy\" : ['Life_Expectancy_2016','Life_Expectancy_2017', 'Life_Expectancy_2018', 'Life_Expectancy_2019','Life_Expectancy_2020', 'Life_Expectancy_Avg'],\n",
    "    \"CPI\": ['CPI_Food_2016', 'CPI_Food_2017', 'CPI_Food_2018', 'CPI_Food_2019', 'CPI_Food_2020','CPI_Food_Avg'],\n",
    "    \"Net_FDI\": ['Net_FDI_2016', 'Net_FDI_2017','Net_FDI_2018', 'Net_FDI_2019', 'Net_FDI_2020']\n",
    "}\n",
    "\n",
    "plot_types = [\"Hist\", \"KDE\"]\n",
    "\n",
    "for k,v in cols_dict.items():\n",
    "    df = pd.DataFrame\n",
    "    if k == \"Prevalence\":\n",
    "        df = df_undernourishment\n",
    "    elif k == \"Life_Expectancy\":\n",
    "        df = df_socio_factors\n",
    "    elif k == \"CPI\":\n",
    "        df = df_cpi\n",
    "    elif k == \"Net_FDI\":\n",
    "        df = df_net_fdi\n",
    "    \n",
    "    for col in cols_dict[k]:\n",
    "        for plot_type in plot_types:\n",
    "            fig = PLOTS_TO_FUNC[plot_type](data=df, x=col)\n",
    "            file_name = f\"{plot_type}_plot_{k}_{col}.png\"\n",
    "            save_fig(fig, UNIVARIATE, file_name)"
   ]
  }
 ],
 "metadata": {
  "kernelspec": {
   "display_name": "Python 3.8.0 64-bit",
   "language": "python",
   "name": "python3"
  },
  "language_info": {
   "codemirror_mode": {
    "name": "ipython",
    "version": 3
   },
   "file_extension": ".py",
   "mimetype": "text/x-python",
   "name": "python",
   "nbconvert_exporter": "python",
   "pygments_lexer": "ipython3",
   "version": "3.8.0"
  },
  "orig_nbformat": 4,
  "vscode": {
   "interpreter": {
    "hash": "195f7d4e7dfa36631d8b035cdcf7a97b6cf52e673cffc7538f8b1ac093d92219"
   }
  }
 },
 "nbformat": 4,
 "nbformat_minor": 2
}
