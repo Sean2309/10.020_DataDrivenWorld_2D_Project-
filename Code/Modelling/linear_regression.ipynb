{
 "cells": [
  {
   "cell_type": "code",
   "execution_count": 2,
   "metadata": {},
   "outputs": [],
   "source": [
    "import numpy as np\n",
    "import pandas as pd\n",
    "import matplotlib.pyplot as plt\n",
    "import seaborn as sns"
   ]
  },
  {
   "cell_type": "code",
   "execution_count": 3,
   "metadata": {},
   "outputs": [],
   "source": [
    "def remove_outliers(df_in, df_out):\n",
    "    mean, std = df_in.mean(), df_in.std()\n",
    "    lower, upper = mean - 3 * std, mean + 3 * std  # type pd.Series\n",
    "    out1 = df_in.index[(df_in < lower).any(axis=1)]\n",
    "    out2 = df_in.index[(df_in > upper).any(axis=1)]\n",
    "    idxs = df_in.index.drop(out1.union(out2))\n",
    "    df_in = df_in.loc[idxs].copy().reset_index(drop=True)\n",
    "    df_out = df_out.loc[idxs].copy().reset_index(drop=True)\n",
    "    return df_in, df_out\n",
    "\n",
    "def normalize_z(dfin):\n",
    "    df_new = (dfin - dfin.mean(axis=0)) / dfin.std(axis=0)\n",
    "    return df_new\n",
    "\n",
    "def get_features_targets(df, feature_names, target_names):\n",
    "    df_feature = df[feature_names].copy()\n",
    "    df_target = df[target_names].copy()\n",
    "    return df_feature, df_target\n",
    "\n",
    "def prepare_feature(df_feature):\n",
    "    m = df_feature.shape[0]\n",
    "    Xtmp = df_feature.to_numpy().reshape(m, len(df_feature.columns))\n",
    "    X = np.concatenate((np.ones((m,1)), Xtmp), axis=1) # m * (n+1)\n",
    "    return X\n",
    "\n",
    "def prepare_target(df_target):\n",
    "    m = df_target.shape[0]\n",
    "    return df_target.to_numpy().reshape(m, 1)\n",
    "\n",
    "def predict(df_feature, beta):\n",
    "    df_feature_norm = normalize_z(df_feature)\n",
    "    features = prepare_feature(df_feature_norm)\n",
    "    yhat = calc_linear(features, beta)\n",
    "    return yhat\n",
    "\n",
    "def calc_linear(X, beta):\n",
    "    return np.matmul(X, beta)\n",
    "\n",
    "def split_data(df_feature, df_target, random_state=None, test_size=0.5):\n",
    "    total = df_feature.shape[0]\n",
    "    n = int(test_size * total)\n",
    "    \n",
    "    np.random.seed(random_state)\n",
    "    n_idxs = np.random.choice(total, n, replace=False)\n",
    "    m_idxs = np.array([i for i in range(total) if i not in n_idxs])\n",
    "    \n",
    "    df_feature_train, df_target_train = df_feature.loc[m_idxs], df_target.loc[m_idxs]\n",
    "    df_feature_test, df_target_test = df_feature.loc[n_idxs], df_target.loc[n_idxs]\n",
    "    \n",
    "    return df_feature_train, df_feature_test, df_target_train, df_target_test\n"
   ]
  },
  {
   "cell_type": "code",
   "execution_count": 4,
   "metadata": {},
   "outputs": [
    {
     "data": {
      "text/html": [
       "<div>\n",
       "<style scoped>\n",
       "    .dataframe tbody tr th:only-of-type {\n",
       "        vertical-align: middle;\n",
       "    }\n",
       "\n",
       "    .dataframe tbody tr th {\n",
       "        vertical-align: top;\n",
       "    }\n",
       "\n",
       "    .dataframe thead th {\n",
       "        text-align: right;\n",
       "    }\n",
       "</style>\n",
       "<table border=\"1\" class=\"dataframe\">\n",
       "  <thead>\n",
       "    <tr style=\"text-align: right;\">\n",
       "      <th></th>\n",
       "      <th>ISO3_Code</th>\n",
       "      <th>Country_Name</th>\n",
       "      <th>M49_Code</th>\n",
       "      <th>Life_Expectancy_2016</th>\n",
       "      <th>Life_Expectancy_2017</th>\n",
       "      <th>Life_Expectancy_2018</th>\n",
       "      <th>Life_Expectancy_2019</th>\n",
       "      <th>Life_Expectancy_2020</th>\n",
       "      <th>Mean_Years_Of_Schooling_2016</th>\n",
       "      <th>Mean_Years_Of_Schooling_2017</th>\n",
       "      <th>...</th>\n",
       "      <th>Access_To_Electricity_2016</th>\n",
       "      <th>Access_To_Electricity_2017</th>\n",
       "      <th>Access_To_Electricity_2018</th>\n",
       "      <th>Access_To_Electricity_2019</th>\n",
       "      <th>Access_To_Electricity_2020</th>\n",
       "      <th>Prevalence_of_undernourishment_2016</th>\n",
       "      <th>Prevalence_of_undernourishment_2017</th>\n",
       "      <th>Prevalence_of_undernourishment_2018</th>\n",
       "      <th>Prevalence_of_undernourishment_2019</th>\n",
       "      <th>Prevalence_of_undernourishment_2020</th>\n",
       "    </tr>\n",
       "  </thead>\n",
       "  <tbody>\n",
       "    <tr>\n",
       "      <th>0</th>\n",
       "      <td>AFG</td>\n",
       "      <td>Afghanistan</td>\n",
       "      <td>4.0</td>\n",
       "      <td>63.1361</td>\n",
       "      <td>63.0160</td>\n",
       "      <td>63.0810</td>\n",
       "      <td>63.5645</td>\n",
       "      <td>62.5751</td>\n",
       "      <td>2.463660</td>\n",
       "      <td>2.561425</td>\n",
       "      <td>...</td>\n",
       "      <td>97.699997</td>\n",
       "      <td>97.699997</td>\n",
       "      <td>96.616135</td>\n",
       "      <td>97.699997</td>\n",
       "      <td>97.699997</td>\n",
       "      <td>22.2</td>\n",
       "      <td>23.0</td>\n",
       "      <td>24.0</td>\n",
       "      <td>26.9</td>\n",
       "      <td>29.8</td>\n",
       "    </tr>\n",
       "    <tr>\n",
       "      <th>1</th>\n",
       "      <td>AGO</td>\n",
       "      <td>Angola</td>\n",
       "      <td>24.0</td>\n",
       "      <td>61.0923</td>\n",
       "      <td>61.6798</td>\n",
       "      <td>62.1438</td>\n",
       "      <td>62.4484</td>\n",
       "      <td>62.2612</td>\n",
       "      <td>5.417391</td>\n",
       "      <td>5.417391</td>\n",
       "      <td>...</td>\n",
       "      <td>41.813129</td>\n",
       "      <td>43.013260</td>\n",
       "      <td>45.290001</td>\n",
       "      <td>45.642799</td>\n",
       "      <td>46.890610</td>\n",
       "      <td>15.4</td>\n",
       "      <td>15.4</td>\n",
       "      <td>15.7</td>\n",
       "      <td>17.9</td>\n",
       "      <td>20.8</td>\n",
       "    </tr>\n",
       "    <tr>\n",
       "      <th>2</th>\n",
       "      <td>ALB</td>\n",
       "      <td>Albania</td>\n",
       "      <td>8.0</td>\n",
       "      <td>78.8602</td>\n",
       "      <td>79.0473</td>\n",
       "      <td>79.1838</td>\n",
       "      <td>79.2825</td>\n",
       "      <td>76.9893</td>\n",
       "      <td>10.727528</td>\n",
       "      <td>10.910692</td>\n",
       "      <td>...</td>\n",
       "      <td>99.889999</td>\n",
       "      <td>99.889999</td>\n",
       "      <td>100.000000</td>\n",
       "      <td>100.000000</td>\n",
       "      <td>100.000000</td>\n",
       "      <td>4.7</td>\n",
       "      <td>4.7</td>\n",
       "      <td>4.6</td>\n",
       "      <td>4.3</td>\n",
       "      <td>3.9</td>\n",
       "    </tr>\n",
       "    <tr>\n",
       "      <th>3</th>\n",
       "      <td>ARE</td>\n",
       "      <td>United Arab Emirates</td>\n",
       "      <td>784.0</td>\n",
       "      <td>79.3347</td>\n",
       "      <td>79.5036</td>\n",
       "      <td>79.6274</td>\n",
       "      <td>79.7262</td>\n",
       "      <td>78.9457</td>\n",
       "      <td>10.842620</td>\n",
       "      <td>12.055400</td>\n",
       "      <td>...</td>\n",
       "      <td>100.000000</td>\n",
       "      <td>100.000000</td>\n",
       "      <td>100.000000</td>\n",
       "      <td>100.000000</td>\n",
       "      <td>100.000000</td>\n",
       "      <td>6.3</td>\n",
       "      <td>6.4</td>\n",
       "      <td>6.2</td>\n",
       "      <td>6.0</td>\n",
       "      <td>5.6</td>\n",
       "    </tr>\n",
       "    <tr>\n",
       "      <th>4</th>\n",
       "      <td>ARG</td>\n",
       "      <td>Argentina</td>\n",
       "      <td>32.0</td>\n",
       "      <td>76.3077</td>\n",
       "      <td>76.8330</td>\n",
       "      <td>76.9994</td>\n",
       "      <td>77.2845</td>\n",
       "      <td>75.8921</td>\n",
       "      <td>10.928190</td>\n",
       "      <td>11.016445</td>\n",
       "      <td>...</td>\n",
       "      <td>99.849579</td>\n",
       "      <td>100.000000</td>\n",
       "      <td>99.989578</td>\n",
       "      <td>100.000000</td>\n",
       "      <td>100.000000</td>\n",
       "      <td>2.6</td>\n",
       "      <td>3.1</td>\n",
       "      <td>3.4</td>\n",
       "      <td>3.5</td>\n",
       "      <td>3.7</td>\n",
       "    </tr>\n",
       "  </tbody>\n",
       "</table>\n",
       "<p>5 rows × 43 columns</p>\n",
       "</div>"
      ],
      "text/plain": [
       "  ISO3_Code          Country_Name  M49_Code  Life_Expectancy_2016  \\\n",
       "0       AFG           Afghanistan       4.0               63.1361   \n",
       "1       AGO                Angola      24.0               61.0923   \n",
       "2       ALB               Albania       8.0               78.8602   \n",
       "3       ARE  United Arab Emirates     784.0               79.3347   \n",
       "4       ARG             Argentina      32.0               76.3077   \n",
       "\n",
       "   Life_Expectancy_2017  Life_Expectancy_2018  Life_Expectancy_2019  \\\n",
       "0               63.0160               63.0810               63.5645   \n",
       "1               61.6798               62.1438               62.4484   \n",
       "2               79.0473               79.1838               79.2825   \n",
       "3               79.5036               79.6274               79.7262   \n",
       "4               76.8330               76.9994               77.2845   \n",
       "\n",
       "   Life_Expectancy_2020  Mean_Years_Of_Schooling_2016  \\\n",
       "0               62.5751                      2.463660   \n",
       "1               62.2612                      5.417391   \n",
       "2               76.9893                     10.727528   \n",
       "3               78.9457                     10.842620   \n",
       "4               75.8921                     10.928190   \n",
       "\n",
       "   Mean_Years_Of_Schooling_2017  ...  Access_To_Electricity_2016  \\\n",
       "0                      2.561425  ...                   97.699997   \n",
       "1                      5.417391  ...                   41.813129   \n",
       "2                     10.910692  ...                   99.889999   \n",
       "3                     12.055400  ...                  100.000000   \n",
       "4                     11.016445  ...                   99.849579   \n",
       "\n",
       "   Access_To_Electricity_2017  Access_To_Electricity_2018  \\\n",
       "0                   97.699997                   96.616135   \n",
       "1                   43.013260                   45.290001   \n",
       "2                   99.889999                  100.000000   \n",
       "3                  100.000000                  100.000000   \n",
       "4                  100.000000                   99.989578   \n",
       "\n",
       "   Access_To_Electricity_2019  Access_To_Electricity_2020  \\\n",
       "0                   97.699997                   97.699997   \n",
       "1                   45.642799                   46.890610   \n",
       "2                  100.000000                  100.000000   \n",
       "3                  100.000000                  100.000000   \n",
       "4                  100.000000                  100.000000   \n",
       "\n",
       "   Prevalence_of_undernourishment_2016  Prevalence_of_undernourishment_2017  \\\n",
       "0                                 22.2                                 23.0   \n",
       "1                                 15.4                                 15.4   \n",
       "2                                  4.7                                  4.7   \n",
       "3                                  6.3                                  6.4   \n",
       "4                                  2.6                                  3.1   \n",
       "\n",
       "   Prevalence_of_undernourishment_2018  Prevalence_of_undernourishment_2019  \\\n",
       "0                                 24.0                                 26.9   \n",
       "1                                 15.7                                 17.9   \n",
       "2                                  4.6                                  4.3   \n",
       "3                                  6.2                                  6.0   \n",
       "4                                  3.4                                  3.5   \n",
       "\n",
       "   Prevalence_of_undernourishment_2020  \n",
       "0                                 29.8  \n",
       "1                                 20.8  \n",
       "2                                  3.9  \n",
       "3                                  5.6  \n",
       "4                                  3.7  \n",
       "\n",
       "[5 rows x 43 columns]"
      ]
     },
     "execution_count": 4,
     "metadata": {},
     "output_type": "execute_result"
    }
   ],
   "source": [
    "# Read the CSV file\n",
    "df = pd.read_csv(\"..\\..\\datasets\\Processed\\All_DF_Processed.csv\")\n",
    "df.head()"
   ]
  },
  {
   "cell_type": "markdown",
   "metadata": {},
   "source": [
    "## I. Preliminary model"
   ]
  },
  {
   "cell_type": "markdown",
   "metadata": {},
   "source": [
    "### Preprocessing\n",
    "0. (null values already replaced with mean in loaded dataset)\n",
    "1. Remove outliers (< or > 3*std)\n",
    "2. Normalize features"
   ]
  },
  {
   "cell_type": "code",
   "execution_count": 5,
   "metadata": {},
   "outputs": [
    {
     "name": "stdout",
     "output_type": "stream",
     "text": [
      "Index(['Life_Expectancy_2020', 'Mean_Years_Of_Schooling_2020', 'CPI_Food_2020',\n",
      "       'Net_FDI_2020', 'Infant_Mortality_Rate_2020', 'Unemployment_2020',\n",
      "       'Access_To_Electricity_2020'],\n",
      "      dtype='object')\n",
      "(152, 7) (152, 1)\n"
     ]
    }
   ],
   "source": [
    "# Extract the features and the targets\n",
    "tmp = df.columns[df.columns.str.contains(\"_2020\")].tolist()\n",
    "feature_names, output_names = tmp[:-1], tmp[-1:]\n",
    "df_features, df_target = get_features_targets(df, feature_names, output_names)\n",
    "n = len(df_features.columns)\n",
    "\n",
    "print(df_features.columns)\n",
    "print(df_features.shape, df_target.shape)\n"
   ]
  },
  {
   "cell_type": "code",
   "execution_count": 6,
   "metadata": {},
   "outputs": [
    {
     "name": "stdout",
     "output_type": "stream",
     "text": [
      "No. of outliers dropped: 15\n"
     ]
    }
   ],
   "source": [
    "# Remove outliers\n",
    "df_features, df_target = remove_outliers(df_features, df_target)\n",
    "print(\"No. of outliers dropped:\", df.shape[0] - df_features.shape[0])"
   ]
  },
  {
   "cell_type": "markdown",
   "metadata": {},
   "source": [
    "### Model training"
   ]
  },
  {
   "cell_type": "code",
   "execution_count": 7,
   "metadata": {},
   "outputs": [],
   "source": [
    "def compute_cost(X, y, beta):\n",
    "    m = X.shape[0]\n",
    "    yhat = calc_linear(X, beta)\n",
    "    J = (1 / 2 / m) * np.matmul((yhat - y).T, (yhat - y))\n",
    "    return J\n",
    "\n",
    "def gradient_descent(X, y, beta, alpha, num_iters):\n",
    "    m = X.shape[0]\n",
    "    J_storage = []\n",
    "    for i in range(num_iters):\n",
    "        yhat = calc_linear(X, beta)\n",
    "        first = X.T * alpha / m\n",
    "        second = yhat - y\n",
    "        beta = beta - np.matmul(first, second)\n",
    "        cost = compute_cost(X, y, beta)\n",
    "        J_storage.append(cost)\n",
    "    return beta, J_storage"
   ]
  },
  {
   "cell_type": "code",
   "execution_count": 8,
   "metadata": {},
   "outputs": [],
   "source": [
    "# Split the data set into training and test\n",
    "df_features_train, df_features_test, df_target_train, df_target_test = split_data(df_features, df_target, 100, 0.3)\n",
    "\n",
    "# Normalize the features using z normalization\n",
    "df_features_train_z = normalize_z(df_features_train)\n",
    "\n",
    "# Change the features and the target to numpy array using the prepare functions\n",
    "X = prepare_feature(df_features_train_z)\n",
    "target = prepare_target(df_target_train)\n",
    "\n",
    "iterations = 1500\n",
    "alpha = 0.01\n",
    "beta = np.zeros((n+1,1))\n",
    "\n",
    "# Call the gradient_descent function\n",
    "beta, J_storage = gradient_descent(X, target, beta, alpha, iterations)\n",
    "\n",
    "# call the predict() method\n",
    "pred = predict(df_features_test, beta)"
   ]
  },
  {
   "cell_type": "markdown",
   "metadata": {},
   "source": [
    "### Model evaluation"
   ]
  },
  {
   "cell_type": "code",
   "execution_count": 9,
   "metadata": {},
   "outputs": [],
   "source": [
    "def r2_score(target, pred):\n",
    "    SSres = np.sum((target - pred) ** 2)\n",
    "    SStot = np.sum((target - np.mean(target)) ** 2)\n",
    "    return 1 - SSres / SStot\n",
    "\n",
    "def mean_squared_error(target, pred):\n",
    "    return np.mean((target - pred) ** 2)\n",
    "\n",
    "def mean_absolute_error(target, pred):\n",
    "    return np.mean(np.abs(target - pred))\n",
    "\n",
    "def adjusted_r2_score(target, pred, num_features):\n",
    "    r2, n, p = r2_score(target, pred), target.shape[0], num_features\n",
    "    return 1 - (1 - r2) * (n-1) / (n-p-1)\n",
    "\n",
    "def mean_absolute_percentage_error(y, pred):\n",
    "    return np.mean(np.abs(target - pred) / target)"
   ]
  },
  {
   "cell_type": "code",
   "execution_count": 10,
   "metadata": {},
   "outputs": [
    {
     "name": "stdout",
     "output_type": "stream",
     "text": [
      "0.59946729939371\n",
      "0.5145058174469213\n",
      "54.849920164641354\n",
      "4.555298784750791\n",
      "0.7454331285014195\n"
     ]
    }
   ],
   "source": [
    "# Evaluate the model \n",
    "target = prepare_target(df_target_test)\n",
    "\n",
    "r2 = r2_score(target, pred)\n",
    "adj_r2 = adjusted_r2_score(target, pred, n)\n",
    "mse = mean_squared_error(target, pred)\n",
    "mae = mean_absolute_error(target, pred)\n",
    "mape = mean_absolute_percentage_error(target, pred)\n",
    "\n",
    "print(r2)\n",
    "print(adj_r2)\n",
    "print(mse)\n",
    "print(mae)\n",
    "print(mape)\n"
   ]
  },
  {
   "cell_type": "markdown",
   "metadata": {},
   "source": [
    "=> Selected metrics for fine tuning: Adjusted R2 Score & MAE"
   ]
  },
  {
   "cell_type": "markdown",
   "metadata": {},
   "source": [
    "## II. Fine tuning"
   ]
  },
  {
   "cell_type": "markdown",
   "metadata": {},
   "source": [
    "### Feature selection\n",
    "0. Generate different combinations of features\n",
    "1. Preprocessing\n",
    "2. Test which combination performs the best"
   ]
  },
  {
   "cell_type": "code",
   "execution_count": 16,
   "metadata": {},
   "outputs": [
    {
     "name": "stdout",
     "output_type": "stream",
     "text": [
      "\n",
      "Features: ['CPI_Food_2020', 'Net_FDI_2020', 'Access_To_Electricity_2020']\n",
      "Adjusted r2_score: 0.6769134283105329\n",
      "MAE: 4.112465862704616\n",
      "\n",
      "Features: ['Mean_Years_Of_Schooling_2020', 'Net_FDI_2020', 'Unemployment_2020', 'Access_To_Electricity_2020']\n",
      "Adjusted r2_score: 0.6742549393710289\n",
      "MAE: 3.6614220656449157\n",
      "\n",
      "Features: ['Mean_Years_Of_Schooling_2020', 'CPI_Food_2020', 'Net_FDI_2020', 'Infant_Mortality_Rate_2020', 'Access_To_Electricity_2020']\n",
      "Adjusted r2_score: 0.6701004389212956\n",
      "MAE: 3.7345148035090006\n",
      "\n",
      "Features: ['Life_Expectancy_2020', 'Mean_Years_Of_Schooling_2020', 'CPI_Food_2020', 'Net_FDI_2020', 'Infant_Mortality_Rate_2020', 'Access_To_Electricity_2020']\n",
      "Adjusted r2_score: 0.6663901372957869\n",
      "MAE: 3.6012883572286993\n",
      "\n",
      "Features: ['Net_FDI_2020', 'Unemployment_2020', 'Access_To_Electricity_2020']\n",
      "Adjusted r2_score: 0.6617741529574432\n",
      "MAE: 4.121937611336814\n"
     ]
    }
   ],
   "source": [
    "# Extract the features and the targets\n",
    "tmp = df.columns[df.columns.str.contains(\"_2020\")].tolist()\n",
    "feature_names, output_names = tmp[:-1], tmp[-1:]\n",
    "\n",
    "# Generate different combinations of features\n",
    "from itertools import combinations\n",
    "combis, r2s, maes, betas = [], {}, {}, {}\n",
    "for i in range(3, len(feature_names)+1):\n",
    "    combis += [list(x) for x in list(combinations(feature_names, i))]\n",
    "\n",
    "for combi in combis:\n",
    "    df_features, df_target = get_features_targets(df, combi, output_names)\n",
    "    n = len(df_features.columns)\n",
    "    df_features, df_target = remove_outliers(df_features, df_target)\n",
    "\n",
    "    # Split the data set into training and test\n",
    "    df_features_train, df_features_test, df_target_train, df_target_test = split_data(df_features, df_target, 100, 0.3)\n",
    "\n",
    "    # Normalize the features using z normalization\n",
    "    df_features_train_z = normalize_z(df_features_train)\n",
    "\n",
    "    # Change the features and the target to numpy array using the prepare functions\n",
    "    X = prepare_feature(df_features_train_z)\n",
    "    target = prepare_target(df_target_train)\n",
    "\n",
    "    iterations = 1500\n",
    "    alpha = 0.01\n",
    "    beta = np.zeros((n+1,1))\n",
    "\n",
    "    # Call the gradient_descent function\n",
    "    beta, J_storage = gradient_descent(X, target, beta, alpha, iterations)\n",
    "\n",
    "    # Call the predict() method\n",
    "    pred = predict(df_features_test, beta)\n",
    "\n",
    "    # Evaluate the model\n",
    "    target = prepare_target(df_target_test)\n",
    "    r2s[str(combi)] = adjusted_r2_score(target, pred, n)\n",
    "    maes[str(combi)] = mean_absolute_error(target, pred)\n",
    "    betas[str(combi)] = beta\n",
    "\n",
    "# Sort all r2 scores from high to low\n",
    "r2s = {k: v for k, v in sorted(r2s.items(), key=lambda item: item[1], reverse=True)}\n",
    "for item in list(r2s.items())[:5]:\n",
    "    print(\"\\nFeatures:\", item[0])\n",
    "    print(\"Adjusted r2_score:\", item[1])\n",
    "    print(\"MAE:\", maes[item[0]])\n"
   ]
  },
  {
   "cell_type": "markdown",
   "metadata": {},
   "source": [
    "=> Selected combi of features: \n",
    "1. Mean_Years_Of_Schooling_2020\n",
    "2. Net_FDI_2020\n",
    "3. Unemployment_2020\n",
    "4. Access_To_Electricity_2020"
   ]
  },
  {
   "cell_type": "code",
   "execution_count": 18,
   "metadata": {},
   "outputs": [
    {
     "data": {
      "text/plain": [
       "<AxesSubplot: >"
      ]
     },
     "execution_count": 18,
     "metadata": {},
     "output_type": "execute_result"
    },
    {
     "data": {
      "image/png": "[encoded data removed]",
      "text/plain": [
       "<Figure size 640x480 with 1 Axes>"
      ]
     },
     "metadata": {},
     "output_type": "display_data"
    }
   ],
   "source": [
    "combi = [\"Mean_Years_Of_Schooling_2020\", \"Net_FDI_2020\", \"Unemployment_2020\", \"Access_To_Electricity_2020\"]\n",
    "\n",
    "df_features, df_target = get_features_targets(df, combi, output_names)\n",
    "n = len(df_features.columns)\n",
    "df_features, df_target = remove_outliers(df_features, df_target)\n",
    "\n",
    "# Split the data set into training and test\n",
    "df_features_train, df_features_test, df_target_train, df_target_test = split_data(df_features, df_target, 100, 0.3)\n",
    "\n",
    "target = prepare_target(df_target_test)\n",
    "pred = predict(df_features_test, betas[str(combi)])\n",
    "\n",
    "sns.regplot(x=target,y=pred,ci=None,color ='blue')"
   ]
  },
  {
   "cell_type": "code",
   "execution_count": null,
   "metadata": {},
   "outputs": [],
   "source": []
  }
 ],
 "metadata": {
  "kernelspec": {
   "display_name": "Python 3.8.0 64-bit",
   "language": "python",
   "name": "python3"
  },
  "language_info": {
   "codemirror_mode": {
    "name": "ipython",
    "version": 3
   },
   "file_extension": ".py",
   "mimetype": "text/x-python",
   "name": "python",
   "nbconvert_exporter": "python",
   "pygments_lexer": "ipython3",
   "version": "3.8.0"
  },
  "orig_nbformat": 4,
  "vscode": {
   "interpreter": {
    "hash": "195f7d4e7dfa36631d8b035cdcf7a97b6cf52e673cffc7538f8b1ac093d92219"
   }
  }
 },
 "nbformat": 4,
 "nbformat_minor": 2
}
