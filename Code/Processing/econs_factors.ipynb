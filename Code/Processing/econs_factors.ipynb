{
 "cells": [
  {
   "cell_type": "code",
   "execution_count": 1,
   "metadata": {},
   "outputs": [],
   "source": [
    "import pandas as pd\n",
    "import numpy as np \n",
    "import matplotlib as mpl\n",
    "import seaborn as sns"
   ]
  },
  {
   "cell_type": "code",
   "execution_count": 2,
   "metadata": {},
   "outputs": [
    {
     "name": "stdout",
     "output_type": "stream",
     "text": [
      "Index(['M49_Code', 'Country_Name', 'ISO3_Code', 'CPI_Food_2016',\n",
      "       'CPI_Food_2017', 'CPI_Food_2018', 'CPI_Food_2019', 'CPI_Food_2020',\n",
      "       'CPI_Food_Avg'],\n",
      "      dtype='object')\n",
      "Index(['Unnamed: 0', 'M49_Code', 'Country_Name', 'Total_FDI_Inflows_2016',\n",
      "       'Total_FDI_Inflows_2017', 'Total_FDI_Inflows_2018',\n",
      "       'Total_FDI_Inflows_2019', 'Total_FDI_Inflows_2020',\n",
      "       'Total_FDI_Outflows_2016', 'Total_FDI_Outflows_2017',\n",
      "       'Total_FDI_Outflows_2018', 'Total_FDI_Outflows_2019',\n",
      "       'Total_FDI_Outflows_2020', 'Net_FDI_2016', 'Net_FDI_2017',\n",
      "       'Net_FDI_2018', 'Net_FDI_2019', 'Net_FDI_2020'],\n",
      "      dtype='object')\n"
     ]
    }
   ],
   "source": [
    "df_cpi = pd.read_csv(\"..\\..\\Datasets\\Processed/CPI_Food_Processed.csv\", engine=\"python\", encoding=\"ISO-8859-1\")\n",
    "df_fdi = pd.read_csv(\"..\\..\\Datasets\\Processed/Net_FDI_Processed.csv\", engine=\"python\")\n",
    "\n",
    "print(df_cpi.columns)\n",
    "print(df_fdi.columns)"
   ]
  }
 ],
 "metadata": {
  "kernelspec": {
   "display_name": "Python 3.10.6 ('viz_env')",
   "language": "python",
   "name": "python3"
  },
  "language_info": {
   "codemirror_mode": {
    "name": "ipython",
    "version": 3
   },
   "file_extension": ".py",
   "mimetype": "text/x-python",
   "name": "python",
   "nbconvert_exporter": "python",
   "pygments_lexer": "ipython3",
   "version": "3.10.6"
  },
  "orig_nbformat": 4,
  "vscode": {
   "interpreter": {
    "hash": "5e714549f14d03f6249c54208929618ad61ce019036de2975eef5f164089b37f"
   }
  }
 },
 "nbformat": 4,
 "nbformat_minor": 2
}
