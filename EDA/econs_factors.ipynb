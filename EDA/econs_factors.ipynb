{
 "cells": [
  {
   "cell_type": "code",
   "execution_count": 1,
   "metadata": {},
   "outputs": [],
   "source": [
    "import pandas as pd\n",
    "import numpy as np \n",
    "import matplotlib as mpl\n",
    "import seaborn as sns"
   ]
  },
  {
   "cell_type": "code",
   "execution_count": 10,
   "metadata": {},
   "outputs": [
    {
     "name": "stdout",
     "output_type": "stream",
     "text": [
      "Index(['M49_Code', 'Country_Name', 'ISO3 Code', 'CPI_Food_2016',\n",
      "       'CPI_Food_2017', 'CPI_Food_2018', 'CPI_Food_2019', 'CPI_Food_2020',\n",
      "       'CPI_Food_Avg'],\n",
      "      dtype='object')\n",
      "Index(['Unnamed: 0', 'M49_Code', 'Area', 'Unit', 'Total FDI inflows 2016',\n",
      "       'Total FDI inflows 2017', 'Total FDI inflows 2018',\n",
      "       'Total FDI inflows 2019', 'Total FDI inflows 2020',\n",
      "       'Total FDI outflows 2016', 'Total FDI outflows 2017',\n",
      "       'Total FDI outflows 2018', 'Total FDI outflows 2019',\n",
      "       'Total FDI outflows 2020', 'Net FDI 2016', 'Net FDI 2017',\n",
      "       'Net FDI 2018', 'Net FDI 2019', 'Net FDI 2020'],\n",
      "      dtype='object')\n"
     ]
    }
   ],
   "source": [
    "df_cpi = pd.read_csv(\"..\\Datasets\\Processed/CPI_Food_Processed.csv\", engine=\"python\", encoding=\"ISO-8859-1\")\n",
    "df_fdi = pd.read_csv(\"..\\Datasets\\Processed/Net_FDI_Processed.csv\", engine=\"python\")\n",
    "\n",
    "print(df_cpi.columns)\n",
    "print(df_fdi.columns)"
   ]
  }
 ],
 "metadata": {
  "kernelspec": {
   "display_name": "Python 3.8.0 64-bit",
   "language": "python",
   "name": "python3"
  },
  "language_info": {
   "codemirror_mode": {
    "name": "ipython",
    "version": 3
   },
   "file_extension": ".py",
   "mimetype": "text/x-python",
   "name": "python",
   "nbconvert_exporter": "python",
   "pygments_lexer": "ipython3",
   "version": "3.8.0"
  },
  "orig_nbformat": 4,
  "vscode": {
   "interpreter": {
    "hash": "195f7d4e7dfa36631d8b035cdcf7a97b6cf52e673cffc7538f8b1ac093d92219"
   }
  }
 },
 "nbformat": 4,
 "nbformat_minor": 2
}
